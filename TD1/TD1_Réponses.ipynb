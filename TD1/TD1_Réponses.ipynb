{
  "nbformat": 4,
  "nbformat_minor": 0,
  "metadata": {
    "colab": {
      "provenance": [],
      "collapsed_sections": []
    },
    "kernelspec": {
      "name": "python3",
      "display_name": "Python 3"
    },
    "language_info": {
      "name": "python"
    }
  },
  "cells": [
    {
      "cell_type": "markdown",
      "source": [
        "<div align=\"center\">\n",
        "\n",
        " <img src=\"https://upload.wikimedia.org/wikipedia/fr/thumb/8/80/Universit%C3%A9_Panth%C3%A9on-Assas_%28depuis_2016%29.svg/1280px-Universit%C3%A9_Panth%C3%A9on-Assas_%28depuis_2016%29.svg.png\" width=\"50%\" height=\"50%\"> \n",
        "  <img src=\"https://cdn.pixabay.com/photo/2017/09/08/19/05/a-2729781_1280.png\" width=\"50%\" height=\"50%\"> \n",
        "\n",
        "\n",
        "<h1>TD 1 de Machine learning</h1>\n",
        "\n",
        "<p>Author : Grégory Bournassenko</p>\n",
        "\n",
        "\n",
        "\n",
        " </div>\n",
        "\n",
        "\n",
        "\n"
      ],
      "metadata": {
        "id": "aQGdjidkeBRW"
      }
    },
    {
      "cell_type": "code",
      "source": [
        "import pandas\n",
        "X = pandas.read_excel(\"https://github.com/gregory798/ML_MBFA/blob/main/TD1/data_X.xlsx?raw=true\")\n",
        "print(type(X))"
      ],
      "metadata": {
        "colab": {
          "base_uri": "https://localhost:8080/"
        },
        "id": "e2GQ-cNwa23T",
        "outputId": "71f3f095-9237-499c-d46f-633e7c17b533"
      },
      "execution_count": null,
      "outputs": [
        {
          "output_type": "stream",
          "name": "stdout",
          "text": [
            "<class 'pandas.core.frame.DataFrame'>\n"
          ]
        }
      ]
    }
  ]
}