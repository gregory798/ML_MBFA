{
  "nbformat": 4,
  "nbformat_minor": 0,
  "metadata": {
    "colab": {
      "provenance": [],
      "collapsed_sections": []
    },
    "kernelspec": {
      "name": "python3",
      "display_name": "Python 3"
    },
    "language_info": {
      "name": "python"
    }
  },
  "cells": [
    {
      "cell_type": "markdown",
      "source": [
        "<div align=\"center\">\n",
        "\n",
        " <img src=\"https://upload.wikimedia.org/wikipedia/fr/thumb/8/80/Universit%C3%A9_Panth%C3%A9on-Assas_%28depuis_2016%29.svg/1280px-Universit%C3%A9_Panth%C3%A9on-Assas_%28depuis_2016%29.svg.png\" width=\"50%\" height=\"50%\"> \n",
        "  <img src=\"https://cdn.pixabay.com/photo/2017/09/08/19/05/a-2729781_1280.png\" width=\"50%\" height=\"50%\"> \n",
        "\n",
        "\n",
        "<h1>TD 1 de Machine Learning</h1>\n",
        "(le machin qui learn)\n",
        "\n",
        "\n",
        " </div>\n",
        "\n",
        "\n",
        "\n"
      ],
      "metadata": {
        "id": "aQGdjidkeBRW"
      }
    },
    {
      "cell_type": "markdown",
      "source": [
        "# **1 Importation, description et visualisation des données**"
      ],
      "metadata": {
        "id": "teo5fa2RfzXd"
      }
    },
    {
      "cell_type": "markdown",
      "source": [
        "## 1 Importez les bases de données en utilisant le package pandas"
      ],
      "metadata": {
        "id": "fY6R9hb3glum"
      }
    },
    {
      "cell_type": "code",
      "source": [
        "import pandas\n",
        "X = pandas.read_excel(\"https://github.com/gregory798/ML_MBFA/blob/main/TD1/data_X.xlsx?raw=true\")\n",
        "y = pandas.read_excel(\"https://github.com/gregory798/ML_MBFA/blob/main/TD1/data_y.xlsx?raw=true\")"
      ],
      "metadata": {
        "id": "e2GQ-cNwa23T"
      },
      "execution_count": 36,
      "outputs": []
    },
    {
      "cell_type": "markdown",
      "source": [
        "## 2 Décrivez la structure des données"
      ],
      "metadata": {
        "id": "Sz_Oejp6hDwr"
      }
    },
    {
      "cell_type": "code",
      "source": [
        "X"
      ],
      "metadata": {
        "colab": {
          "base_uri": "https://localhost:8080/",
          "height": 424
        },
        "id": "_a_RdTPCvJ-A",
        "outputId": "a4eacfa3-b909-44f1-a572-8f6b8ed18c18"
      },
      "execution_count": 37,
      "outputs": [
        {
          "output_type": "execute_result",
          "data": {
            "text/plain": [
              "      pixel1  pixel2  pixel3  pixel4  pixel5  pixel6  pixel7  pixel8  pixel9  \\\n",
              "0          0       0       0       0       0       0       0       0       0   \n",
              "1          0       0       0       0       0       0       0       0       0   \n",
              "2          0       0       0       0       0       0       0       0       0   \n",
              "3          0       0       0       0       0       0       0       0       0   \n",
              "4          0       0       0       0       0       0       0       0       0   \n",
              "...      ...     ...     ...     ...     ...     ...     ...     ...     ...   \n",
              "4995       0       0       0       0       0       0       0       0       0   \n",
              "4996       0       0       0       0       0       0       0       0       0   \n",
              "4997       0       0       0       0       0       0       0       0       0   \n",
              "4998       0       0       0       0       0       0       0       0       0   \n",
              "4999       0       0       0       0       0       0       0       0       0   \n",
              "\n",
              "      pixel10  ...  pixel775  pixel776  pixel777  pixel778  pixel779  \\\n",
              "0           0  ...         0         0         0         0         0   \n",
              "1           0  ...         0         0         0         0         0   \n",
              "2           0  ...         0         0         0         0         0   \n",
              "3           0  ...         0         0         0         0         0   \n",
              "4           0  ...         0         0         0         0         0   \n",
              "...       ...  ...       ...       ...       ...       ...       ...   \n",
              "4995        0  ...         0         0         0         0         0   \n",
              "4996        0  ...         0         0         0         0         0   \n",
              "4997        0  ...         0         0         0         0         0   \n",
              "4998        0  ...         0         0         0         0         0   \n",
              "4999        0  ...         0         0         0         0         0   \n",
              "\n",
              "      pixel780  pixel781  pixel782  pixel783  pixel784  \n",
              "0            0         0         0         0         0  \n",
              "1            0         0         0         0         0  \n",
              "2            0         0         0         0         0  \n",
              "3            0         0         0         0         0  \n",
              "4            0         0         0         0         0  \n",
              "...        ...       ...       ...       ...       ...  \n",
              "4995         0         0         0         0         0  \n",
              "4996         0         0         0         0         0  \n",
              "4997         0         0         0         0         0  \n",
              "4998         0         0         0         0         0  \n",
              "4999         0         0         0         0         0  \n",
              "\n",
              "[5000 rows x 784 columns]"
            ],
            "text/html": [
              "\n",
              "  <div id=\"df-fe7e8d41-5126-443a-9d3c-c1c1394e3aa3\">\n",
              "    <div class=\"colab-df-container\">\n",
              "      <div>\n",
              "<style scoped>\n",
              "    .dataframe tbody tr th:only-of-type {\n",
              "        vertical-align: middle;\n",
              "    }\n",
              "\n",
              "    .dataframe tbody tr th {\n",
              "        vertical-align: top;\n",
              "    }\n",
              "\n",
              "    .dataframe thead th {\n",
              "        text-align: right;\n",
              "    }\n",
              "</style>\n",
              "<table border=\"1\" class=\"dataframe\">\n",
              "  <thead>\n",
              "    <tr style=\"text-align: right;\">\n",
              "      <th></th>\n",
              "      <th>pixel1</th>\n",
              "      <th>pixel2</th>\n",
              "      <th>pixel3</th>\n",
              "      <th>pixel4</th>\n",
              "      <th>pixel5</th>\n",
              "      <th>pixel6</th>\n",
              "      <th>pixel7</th>\n",
              "      <th>pixel8</th>\n",
              "      <th>pixel9</th>\n",
              "      <th>pixel10</th>\n",
              "      <th>...</th>\n",
              "      <th>pixel775</th>\n",
              "      <th>pixel776</th>\n",
              "      <th>pixel777</th>\n",
              "      <th>pixel778</th>\n",
              "      <th>pixel779</th>\n",
              "      <th>pixel780</th>\n",
              "      <th>pixel781</th>\n",
              "      <th>pixel782</th>\n",
              "      <th>pixel783</th>\n",
              "      <th>pixel784</th>\n",
              "    </tr>\n",
              "  </thead>\n",
              "  <tbody>\n",
              "    <tr>\n",
              "      <th>0</th>\n",
              "      <td>0</td>\n",
              "      <td>0</td>\n",
              "      <td>0</td>\n",
              "      <td>0</td>\n",
              "      <td>0</td>\n",
              "      <td>0</td>\n",
              "      <td>0</td>\n",
              "      <td>0</td>\n",
              "      <td>0</td>\n",
              "      <td>0</td>\n",
              "      <td>...</td>\n",
              "      <td>0</td>\n",
              "      <td>0</td>\n",
              "      <td>0</td>\n",
              "      <td>0</td>\n",
              "      <td>0</td>\n",
              "      <td>0</td>\n",
              "      <td>0</td>\n",
              "      <td>0</td>\n",
              "      <td>0</td>\n",
              "      <td>0</td>\n",
              "    </tr>\n",
              "    <tr>\n",
              "      <th>1</th>\n",
              "      <td>0</td>\n",
              "      <td>0</td>\n",
              "      <td>0</td>\n",
              "      <td>0</td>\n",
              "      <td>0</td>\n",
              "      <td>0</td>\n",
              "      <td>0</td>\n",
              "      <td>0</td>\n",
              "      <td>0</td>\n",
              "      <td>0</td>\n",
              "      <td>...</td>\n",
              "      <td>0</td>\n",
              "      <td>0</td>\n",
              "      <td>0</td>\n",
              "      <td>0</td>\n",
              "      <td>0</td>\n",
              "      <td>0</td>\n",
              "      <td>0</td>\n",
              "      <td>0</td>\n",
              "      <td>0</td>\n",
              "      <td>0</td>\n",
              "    </tr>\n",
              "    <tr>\n",
              "      <th>2</th>\n",
              "      <td>0</td>\n",
              "      <td>0</td>\n",
              "      <td>0</td>\n",
              "      <td>0</td>\n",
              "      <td>0</td>\n",
              "      <td>0</td>\n",
              "      <td>0</td>\n",
              "      <td>0</td>\n",
              "      <td>0</td>\n",
              "      <td>0</td>\n",
              "      <td>...</td>\n",
              "      <td>0</td>\n",
              "      <td>0</td>\n",
              "      <td>0</td>\n",
              "      <td>0</td>\n",
              "      <td>0</td>\n",
              "      <td>0</td>\n",
              "      <td>0</td>\n",
              "      <td>0</td>\n",
              "      <td>0</td>\n",
              "      <td>0</td>\n",
              "    </tr>\n",
              "    <tr>\n",
              "      <th>3</th>\n",
              "      <td>0</td>\n",
              "      <td>0</td>\n",
              "      <td>0</td>\n",
              "      <td>0</td>\n",
              "      <td>0</td>\n",
              "      <td>0</td>\n",
              "      <td>0</td>\n",
              "      <td>0</td>\n",
              "      <td>0</td>\n",
              "      <td>0</td>\n",
              "      <td>...</td>\n",
              "      <td>0</td>\n",
              "      <td>0</td>\n",
              "      <td>0</td>\n",
              "      <td>0</td>\n",
              "      <td>0</td>\n",
              "      <td>0</td>\n",
              "      <td>0</td>\n",
              "      <td>0</td>\n",
              "      <td>0</td>\n",
              "      <td>0</td>\n",
              "    </tr>\n",
              "    <tr>\n",
              "      <th>4</th>\n",
              "      <td>0</td>\n",
              "      <td>0</td>\n",
              "      <td>0</td>\n",
              "      <td>0</td>\n",
              "      <td>0</td>\n",
              "      <td>0</td>\n",
              "      <td>0</td>\n",
              "      <td>0</td>\n",
              "      <td>0</td>\n",
              "      <td>0</td>\n",
              "      <td>...</td>\n",
              "      <td>0</td>\n",
              "      <td>0</td>\n",
              "      <td>0</td>\n",
              "      <td>0</td>\n",
              "      <td>0</td>\n",
              "      <td>0</td>\n",
              "      <td>0</td>\n",
              "      <td>0</td>\n",
              "      <td>0</td>\n",
              "      <td>0</td>\n",
              "    </tr>\n",
              "    <tr>\n",
              "      <th>...</th>\n",
              "      <td>...</td>\n",
              "      <td>...</td>\n",
              "      <td>...</td>\n",
              "      <td>...</td>\n",
              "      <td>...</td>\n",
              "      <td>...</td>\n",
              "      <td>...</td>\n",
              "      <td>...</td>\n",
              "      <td>...</td>\n",
              "      <td>...</td>\n",
              "      <td>...</td>\n",
              "      <td>...</td>\n",
              "      <td>...</td>\n",
              "      <td>...</td>\n",
              "      <td>...</td>\n",
              "      <td>...</td>\n",
              "      <td>...</td>\n",
              "      <td>...</td>\n",
              "      <td>...</td>\n",
              "      <td>...</td>\n",
              "      <td>...</td>\n",
              "    </tr>\n",
              "    <tr>\n",
              "      <th>4995</th>\n",
              "      <td>0</td>\n",
              "      <td>0</td>\n",
              "      <td>0</td>\n",
              "      <td>0</td>\n",
              "      <td>0</td>\n",
              "      <td>0</td>\n",
              "      <td>0</td>\n",
              "      <td>0</td>\n",
              "      <td>0</td>\n",
              "      <td>0</td>\n",
              "      <td>...</td>\n",
              "      <td>0</td>\n",
              "      <td>0</td>\n",
              "      <td>0</td>\n",
              "      <td>0</td>\n",
              "      <td>0</td>\n",
              "      <td>0</td>\n",
              "      <td>0</td>\n",
              "      <td>0</td>\n",
              "      <td>0</td>\n",
              "      <td>0</td>\n",
              "    </tr>\n",
              "    <tr>\n",
              "      <th>4996</th>\n",
              "      <td>0</td>\n",
              "      <td>0</td>\n",
              "      <td>0</td>\n",
              "      <td>0</td>\n",
              "      <td>0</td>\n",
              "      <td>0</td>\n",
              "      <td>0</td>\n",
              "      <td>0</td>\n",
              "      <td>0</td>\n",
              "      <td>0</td>\n",
              "      <td>...</td>\n",
              "      <td>0</td>\n",
              "      <td>0</td>\n",
              "      <td>0</td>\n",
              "      <td>0</td>\n",
              "      <td>0</td>\n",
              "      <td>0</td>\n",
              "      <td>0</td>\n",
              "      <td>0</td>\n",
              "      <td>0</td>\n",
              "      <td>0</td>\n",
              "    </tr>\n",
              "    <tr>\n",
              "      <th>4997</th>\n",
              "      <td>0</td>\n",
              "      <td>0</td>\n",
              "      <td>0</td>\n",
              "      <td>0</td>\n",
              "      <td>0</td>\n",
              "      <td>0</td>\n",
              "      <td>0</td>\n",
              "      <td>0</td>\n",
              "      <td>0</td>\n",
              "      <td>0</td>\n",
              "      <td>...</td>\n",
              "      <td>0</td>\n",
              "      <td>0</td>\n",
              "      <td>0</td>\n",
              "      <td>0</td>\n",
              "      <td>0</td>\n",
              "      <td>0</td>\n",
              "      <td>0</td>\n",
              "      <td>0</td>\n",
              "      <td>0</td>\n",
              "      <td>0</td>\n",
              "    </tr>\n",
              "    <tr>\n",
              "      <th>4998</th>\n",
              "      <td>0</td>\n",
              "      <td>0</td>\n",
              "      <td>0</td>\n",
              "      <td>0</td>\n",
              "      <td>0</td>\n",
              "      <td>0</td>\n",
              "      <td>0</td>\n",
              "      <td>0</td>\n",
              "      <td>0</td>\n",
              "      <td>0</td>\n",
              "      <td>...</td>\n",
              "      <td>0</td>\n",
              "      <td>0</td>\n",
              "      <td>0</td>\n",
              "      <td>0</td>\n",
              "      <td>0</td>\n",
              "      <td>0</td>\n",
              "      <td>0</td>\n",
              "      <td>0</td>\n",
              "      <td>0</td>\n",
              "      <td>0</td>\n",
              "    </tr>\n",
              "    <tr>\n",
              "      <th>4999</th>\n",
              "      <td>0</td>\n",
              "      <td>0</td>\n",
              "      <td>0</td>\n",
              "      <td>0</td>\n",
              "      <td>0</td>\n",
              "      <td>0</td>\n",
              "      <td>0</td>\n",
              "      <td>0</td>\n",
              "      <td>0</td>\n",
              "      <td>0</td>\n",
              "      <td>...</td>\n",
              "      <td>0</td>\n",
              "      <td>0</td>\n",
              "      <td>0</td>\n",
              "      <td>0</td>\n",
              "      <td>0</td>\n",
              "      <td>0</td>\n",
              "      <td>0</td>\n",
              "      <td>0</td>\n",
              "      <td>0</td>\n",
              "      <td>0</td>\n",
              "    </tr>\n",
              "  </tbody>\n",
              "</table>\n",
              "<p>5000 rows × 784 columns</p>\n",
              "</div>\n",
              "      <button class=\"colab-df-convert\" onclick=\"convertToInteractive('df-fe7e8d41-5126-443a-9d3c-c1c1394e3aa3')\"\n",
              "              title=\"Convert this dataframe to an interactive table.\"\n",
              "              style=\"display:none;\">\n",
              "        \n",
              "  <svg xmlns=\"http://www.w3.org/2000/svg\" height=\"24px\"viewBox=\"0 0 24 24\"\n",
              "       width=\"24px\">\n",
              "    <path d=\"M0 0h24v24H0V0z\" fill=\"none\"/>\n",
              "    <path d=\"M18.56 5.44l.94 2.06.94-2.06 2.06-.94-2.06-.94-.94-2.06-.94 2.06-2.06.94zm-11 1L8.5 8.5l.94-2.06 2.06-.94-2.06-.94L8.5 2.5l-.94 2.06-2.06.94zm10 10l.94 2.06.94-2.06 2.06-.94-2.06-.94-.94-2.06-.94 2.06-2.06.94z\"/><path d=\"M17.41 7.96l-1.37-1.37c-.4-.4-.92-.59-1.43-.59-.52 0-1.04.2-1.43.59L10.3 9.45l-7.72 7.72c-.78.78-.78 2.05 0 2.83L4 21.41c.39.39.9.59 1.41.59.51 0 1.02-.2 1.41-.59l7.78-7.78 2.81-2.81c.8-.78.8-2.07 0-2.86zM5.41 20L4 18.59l7.72-7.72 1.47 1.35L5.41 20z\"/>\n",
              "  </svg>\n",
              "      </button>\n",
              "      \n",
              "  <style>\n",
              "    .colab-df-container {\n",
              "      display:flex;\n",
              "      flex-wrap:wrap;\n",
              "      gap: 12px;\n",
              "    }\n",
              "\n",
              "    .colab-df-convert {\n",
              "      background-color: #E8F0FE;\n",
              "      border: none;\n",
              "      border-radius: 50%;\n",
              "      cursor: pointer;\n",
              "      display: none;\n",
              "      fill: #1967D2;\n",
              "      height: 32px;\n",
              "      padding: 0 0 0 0;\n",
              "      width: 32px;\n",
              "    }\n",
              "\n",
              "    .colab-df-convert:hover {\n",
              "      background-color: #E2EBFA;\n",
              "      box-shadow: 0px 1px 2px rgba(60, 64, 67, 0.3), 0px 1px 3px 1px rgba(60, 64, 67, 0.15);\n",
              "      fill: #174EA6;\n",
              "    }\n",
              "\n",
              "    [theme=dark] .colab-df-convert {\n",
              "      background-color: #3B4455;\n",
              "      fill: #D2E3FC;\n",
              "    }\n",
              "\n",
              "    [theme=dark] .colab-df-convert:hover {\n",
              "      background-color: #434B5C;\n",
              "      box-shadow: 0px 1px 3px 1px rgba(0, 0, 0, 0.15);\n",
              "      filter: drop-shadow(0px 1px 2px rgba(0, 0, 0, 0.3));\n",
              "      fill: #FFFFFF;\n",
              "    }\n",
              "  </style>\n",
              "\n",
              "      <script>\n",
              "        const buttonEl =\n",
              "          document.querySelector('#df-fe7e8d41-5126-443a-9d3c-c1c1394e3aa3 button.colab-df-convert');\n",
              "        buttonEl.style.display =\n",
              "          google.colab.kernel.accessAllowed ? 'block' : 'none';\n",
              "\n",
              "        async function convertToInteractive(key) {\n",
              "          const element = document.querySelector('#df-fe7e8d41-5126-443a-9d3c-c1c1394e3aa3');\n",
              "          const dataTable =\n",
              "            await google.colab.kernel.invokeFunction('convertToInteractive',\n",
              "                                                     [key], {});\n",
              "          if (!dataTable) return;\n",
              "\n",
              "          const docLinkHtml = 'Like what you see? Visit the ' +\n",
              "            '<a target=\"_blank\" href=https://colab.research.google.com/notebooks/data_table.ipynb>data table notebook</a>'\n",
              "            + ' to learn more about interactive tables.';\n",
              "          element.innerHTML = '';\n",
              "          dataTable['output_type'] = 'display_data';\n",
              "          await google.colab.output.renderOutput(dataTable, element);\n",
              "          const docLink = document.createElement('div');\n",
              "          docLink.innerHTML = docLinkHtml;\n",
              "          element.appendChild(docLink);\n",
              "        }\n",
              "      </script>\n",
              "    </div>\n",
              "  </div>\n",
              "  "
            ]
          },
          "metadata": {},
          "execution_count": 37
        }
      ]
    },
    {
      "cell_type": "code",
      "source": [
        "y"
      ],
      "metadata": {
        "colab": {
          "base_uri": "https://localhost:8080/",
          "height": 424
        },
        "id": "6SAWVqiz20p6",
        "outputId": "0f659ccd-8747-42e7-dbcb-e0d28b93de6a"
      },
      "execution_count": 38,
      "outputs": [
        {
          "output_type": "execute_result",
          "data": {
            "text/plain": [
              "      class\n",
              "0         5\n",
              "1         0\n",
              "2         4\n",
              "3         1\n",
              "4         9\n",
              "...     ...\n",
              "4995      7\n",
              "4996      3\n",
              "4997      2\n",
              "4998      1\n",
              "4999      2\n",
              "\n",
              "[5000 rows x 1 columns]"
            ],
            "text/html": [
              "\n",
              "  <div id=\"df-2879999f-bc8b-4be4-96c8-2938bbf0c769\">\n",
              "    <div class=\"colab-df-container\">\n",
              "      <div>\n",
              "<style scoped>\n",
              "    .dataframe tbody tr th:only-of-type {\n",
              "        vertical-align: middle;\n",
              "    }\n",
              "\n",
              "    .dataframe tbody tr th {\n",
              "        vertical-align: top;\n",
              "    }\n",
              "\n",
              "    .dataframe thead th {\n",
              "        text-align: right;\n",
              "    }\n",
              "</style>\n",
              "<table border=\"1\" class=\"dataframe\">\n",
              "  <thead>\n",
              "    <tr style=\"text-align: right;\">\n",
              "      <th></th>\n",
              "      <th>class</th>\n",
              "    </tr>\n",
              "  </thead>\n",
              "  <tbody>\n",
              "    <tr>\n",
              "      <th>0</th>\n",
              "      <td>5</td>\n",
              "    </tr>\n",
              "    <tr>\n",
              "      <th>1</th>\n",
              "      <td>0</td>\n",
              "    </tr>\n",
              "    <tr>\n",
              "      <th>2</th>\n",
              "      <td>4</td>\n",
              "    </tr>\n",
              "    <tr>\n",
              "      <th>3</th>\n",
              "      <td>1</td>\n",
              "    </tr>\n",
              "    <tr>\n",
              "      <th>4</th>\n",
              "      <td>9</td>\n",
              "    </tr>\n",
              "    <tr>\n",
              "      <th>...</th>\n",
              "      <td>...</td>\n",
              "    </tr>\n",
              "    <tr>\n",
              "      <th>4995</th>\n",
              "      <td>7</td>\n",
              "    </tr>\n",
              "    <tr>\n",
              "      <th>4996</th>\n",
              "      <td>3</td>\n",
              "    </tr>\n",
              "    <tr>\n",
              "      <th>4997</th>\n",
              "      <td>2</td>\n",
              "    </tr>\n",
              "    <tr>\n",
              "      <th>4998</th>\n",
              "      <td>1</td>\n",
              "    </tr>\n",
              "    <tr>\n",
              "      <th>4999</th>\n",
              "      <td>2</td>\n",
              "    </tr>\n",
              "  </tbody>\n",
              "</table>\n",
              "<p>5000 rows × 1 columns</p>\n",
              "</div>\n",
              "      <button class=\"colab-df-convert\" onclick=\"convertToInteractive('df-2879999f-bc8b-4be4-96c8-2938bbf0c769')\"\n",
              "              title=\"Convert this dataframe to an interactive table.\"\n",
              "              style=\"display:none;\">\n",
              "        \n",
              "  <svg xmlns=\"http://www.w3.org/2000/svg\" height=\"24px\"viewBox=\"0 0 24 24\"\n",
              "       width=\"24px\">\n",
              "    <path d=\"M0 0h24v24H0V0z\" fill=\"none\"/>\n",
              "    <path d=\"M18.56 5.44l.94 2.06.94-2.06 2.06-.94-2.06-.94-.94-2.06-.94 2.06-2.06.94zm-11 1L8.5 8.5l.94-2.06 2.06-.94-2.06-.94L8.5 2.5l-.94 2.06-2.06.94zm10 10l.94 2.06.94-2.06 2.06-.94-2.06-.94-.94-2.06-.94 2.06-2.06.94z\"/><path d=\"M17.41 7.96l-1.37-1.37c-.4-.4-.92-.59-1.43-.59-.52 0-1.04.2-1.43.59L10.3 9.45l-7.72 7.72c-.78.78-.78 2.05 0 2.83L4 21.41c.39.39.9.59 1.41.59.51 0 1.02-.2 1.41-.59l7.78-7.78 2.81-2.81c.8-.78.8-2.07 0-2.86zM5.41 20L4 18.59l7.72-7.72 1.47 1.35L5.41 20z\"/>\n",
              "  </svg>\n",
              "      </button>\n",
              "      \n",
              "  <style>\n",
              "    .colab-df-container {\n",
              "      display:flex;\n",
              "      flex-wrap:wrap;\n",
              "      gap: 12px;\n",
              "    }\n",
              "\n",
              "    .colab-df-convert {\n",
              "      background-color: #E8F0FE;\n",
              "      border: none;\n",
              "      border-radius: 50%;\n",
              "      cursor: pointer;\n",
              "      display: none;\n",
              "      fill: #1967D2;\n",
              "      height: 32px;\n",
              "      padding: 0 0 0 0;\n",
              "      width: 32px;\n",
              "    }\n",
              "\n",
              "    .colab-df-convert:hover {\n",
              "      background-color: #E2EBFA;\n",
              "      box-shadow: 0px 1px 2px rgba(60, 64, 67, 0.3), 0px 1px 3px 1px rgba(60, 64, 67, 0.15);\n",
              "      fill: #174EA6;\n",
              "    }\n",
              "\n",
              "    [theme=dark] .colab-df-convert {\n",
              "      background-color: #3B4455;\n",
              "      fill: #D2E3FC;\n",
              "    }\n",
              "\n",
              "    [theme=dark] .colab-df-convert:hover {\n",
              "      background-color: #434B5C;\n",
              "      box-shadow: 0px 1px 3px 1px rgba(0, 0, 0, 0.15);\n",
              "      filter: drop-shadow(0px 1px 2px rgba(0, 0, 0, 0.3));\n",
              "      fill: #FFFFFF;\n",
              "    }\n",
              "  </style>\n",
              "\n",
              "      <script>\n",
              "        const buttonEl =\n",
              "          document.querySelector('#df-2879999f-bc8b-4be4-96c8-2938bbf0c769 button.colab-df-convert');\n",
              "        buttonEl.style.display =\n",
              "          google.colab.kernel.accessAllowed ? 'block' : 'none';\n",
              "\n",
              "        async function convertToInteractive(key) {\n",
              "          const element = document.querySelector('#df-2879999f-bc8b-4be4-96c8-2938bbf0c769');\n",
              "          const dataTable =\n",
              "            await google.colab.kernel.invokeFunction('convertToInteractive',\n",
              "                                                     [key], {});\n",
              "          if (!dataTable) return;\n",
              "\n",
              "          const docLinkHtml = 'Like what you see? Visit the ' +\n",
              "            '<a target=\"_blank\" href=https://colab.research.google.com/notebooks/data_table.ipynb>data table notebook</a>'\n",
              "            + ' to learn more about interactive tables.';\n",
              "          element.innerHTML = '';\n",
              "          dataTable['output_type'] = 'display_data';\n",
              "          await google.colab.output.renderOutput(dataTable, element);\n",
              "          const docLink = document.createElement('div');\n",
              "          docLink.innerHTML = docLinkHtml;\n",
              "          element.appendChild(docLink);\n",
              "        }\n",
              "      </script>\n",
              "    </div>\n",
              "  </div>\n",
              "  "
            ]
          },
          "metadata": {},
          "execution_count": 38
        }
      ]
    },
    {
      "cell_type": "code",
      "source": [
        "print(type(X))"
      ],
      "metadata": {
        "colab": {
          "base_uri": "https://localhost:8080/"
        },
        "id": "CcS0uUqgt6br",
        "outputId": "72714e71-2960-428c-f648-ff702dceee8a"
      },
      "execution_count": 39,
      "outputs": [
        {
          "output_type": "stream",
          "name": "stdout",
          "text": [
            "<class 'pandas.core.frame.DataFrame'>\n"
          ]
        }
      ]
    },
    {
      "cell_type": "code",
      "source": [
        "print(X.head(10))"
      ],
      "metadata": {
        "colab": {
          "base_uri": "https://localhost:8080/"
        },
        "id": "sQ3EF4Z-t77j",
        "outputId": "6441ec60-e2db-4b52-9330-862a8289f5bf"
      },
      "execution_count": 40,
      "outputs": [
        {
          "output_type": "stream",
          "name": "stdout",
          "text": [
            "   pixel1  pixel2  pixel3  pixel4  pixel5  pixel6  pixel7  pixel8  pixel9  \\\n",
            "0       0       0       0       0       0       0       0       0       0   \n",
            "1       0       0       0       0       0       0       0       0       0   \n",
            "2       0       0       0       0       0       0       0       0       0   \n",
            "3       0       0       0       0       0       0       0       0       0   \n",
            "4       0       0       0       0       0       0       0       0       0   \n",
            "5       0       0       0       0       0       0       0       0       0   \n",
            "6       0       0       0       0       0       0       0       0       0   \n",
            "7       0       0       0       0       0       0       0       0       0   \n",
            "8       0       0       0       0       0       0       0       0       0   \n",
            "9       0       0       0       0       0       0       0       0       0   \n",
            "\n",
            "   pixel10  ...  pixel775  pixel776  pixel777  pixel778  pixel779  pixel780  \\\n",
            "0        0  ...         0         0         0         0         0         0   \n",
            "1        0  ...         0         0         0         0         0         0   \n",
            "2        0  ...         0         0         0         0         0         0   \n",
            "3        0  ...         0         0         0         0         0         0   \n",
            "4        0  ...         0         0         0         0         0         0   \n",
            "5        0  ...         0         0         0         0         0         0   \n",
            "6        0  ...         0         0         0         0         0         0   \n",
            "7        0  ...         0         0         0         0         0         0   \n",
            "8        0  ...         0         0         0         0         0         0   \n",
            "9        0  ...         0         0         0         0         0         0   \n",
            "\n",
            "   pixel781  pixel782  pixel783  pixel784  \n",
            "0         0         0         0         0  \n",
            "1         0         0         0         0  \n",
            "2         0         0         0         0  \n",
            "3         0         0         0         0  \n",
            "4         0         0         0         0  \n",
            "5         0         0         0         0  \n",
            "6         0         0         0         0  \n",
            "7         0         0         0         0  \n",
            "8         0         0         0         0  \n",
            "9         0         0         0         0  \n",
            "\n",
            "[10 rows x 784 columns]\n"
          ]
        }
      ]
    },
    {
      "cell_type": "code",
      "source": [
        "print(X.shape)"
      ],
      "metadata": {
        "colab": {
          "base_uri": "https://localhost:8080/"
        },
        "id": "l_LyKpElt9iC",
        "outputId": "fd70b075-7ee0-4cec-ce97-29e2bf11f204"
      },
      "execution_count": 41,
      "outputs": [
        {
          "output_type": "stream",
          "name": "stdout",
          "text": [
            "(5000, 784)\n"
          ]
        }
      ]
    },
    {
      "cell_type": "code",
      "source": [
        "print(X.columns)"
      ],
      "metadata": {
        "colab": {
          "base_uri": "https://localhost:8080/"
        },
        "id": "-3qL2ZS8t_Aa",
        "outputId": "daf789d9-98b3-4081-a3e3-6d1d0c89b936"
      },
      "execution_count": 42,
      "outputs": [
        {
          "output_type": "stream",
          "name": "stdout",
          "text": [
            "Index(['pixel1', 'pixel2', 'pixel3', 'pixel4', 'pixel5', 'pixel6', 'pixel7',\n",
            "       'pixel8', 'pixel9', 'pixel10',\n",
            "       ...\n",
            "       'pixel775', 'pixel776', 'pixel777', 'pixel778', 'pixel779', 'pixel780',\n",
            "       'pixel781', 'pixel782', 'pixel783', 'pixel784'],\n",
            "      dtype='object', length=784)\n"
          ]
        }
      ]
    },
    {
      "cell_type": "code",
      "source": [
        "print(X.dtypes)"
      ],
      "metadata": {
        "colab": {
          "base_uri": "https://localhost:8080/"
        },
        "id": "6Y633JQVuAZC",
        "outputId": "e4d09d78-d082-48e9-a091-1ddf669c52c4"
      },
      "execution_count": 43,
      "outputs": [
        {
          "output_type": "stream",
          "name": "stdout",
          "text": [
            "pixel1      int64\n",
            "pixel2      int64\n",
            "pixel3      int64\n",
            "pixel4      int64\n",
            "pixel5      int64\n",
            "            ...  \n",
            "pixel780    int64\n",
            "pixel781    int64\n",
            "pixel782    int64\n",
            "pixel783    int64\n",
            "pixel784    int64\n",
            "Length: 784, dtype: object\n"
          ]
        }
      ]
    },
    {
      "cell_type": "code",
      "source": [
        "print(X.info())"
      ],
      "metadata": {
        "colab": {
          "base_uri": "https://localhost:8080/"
        },
        "id": "FBOtkxEuuCS6",
        "outputId": "ccc42a0e-c789-421a-96e2-52d423c41d81"
      },
      "execution_count": 44,
      "outputs": [
        {
          "output_type": "stream",
          "name": "stdout",
          "text": [
            "<class 'pandas.core.frame.DataFrame'>\n",
            "RangeIndex: 5000 entries, 0 to 4999\n",
            "Columns: 784 entries, pixel1 to pixel784\n",
            "dtypes: int64(784)\n",
            "memory usage: 29.9 MB\n",
            "None\n"
          ]
        }
      ]
    },
    {
      "cell_type": "markdown",
      "source": [
        "<font color='red'>Quelle est la structure de la base X ? </font>\n",
        "\n",
        "<font color='lightbluereen'>5 000 lignes X 784 colonnes</font>\n",
        "\n",
        "<font color='red'>Que repr\u0013ésentent les colonnes ?</font>\n",
        "\n",
        "<font color='lightbluereen'>Elles représentent des pixels (surement d'une image, et les lignes sont les observations, donc ces mêmes images)</font>\n",
        "\n",
        "<font color='red'>Dans quel format les donn\u0013ées sont-elles stock\u0013ées ?</font>\n",
        "\n",
        "<font color='lightbluereen'>Fichier Excel > Panda's Dataframe (made of int64's)</font>\n",
        "\n"
      ],
      "metadata": {
        "id": "Mgh5UZpstsM0"
      }
    },
    {
      "cell_type": "markdown",
      "source": [
        "## 3 Visualisez les donn\u0013ées"
      ],
      "metadata": {
        "id": "jWr3r1_Hxsec"
      }
    },
    {
      "cell_type": "code",
      "source": [
        "import matplotlib as mpl\n",
        "import matplotlib.pyplot as plt\n",
        "chiffre = X.iloc[1]\n",
        "chiffre_image = chiffre.values.reshape(28,28)\n",
        "plt.imshow(chiffre_image, cmap=mpl.cm.binary, interpolation=\"nearest\")\n",
        "plt.axis(\"off\")\n",
        "plt.show()\n",
        "y.iloc[1]"
      ],
      "metadata": {
        "colab": {
          "base_uri": "https://localhost:8080/",
          "height": 285
        },
        "id": "Dve-TSSpx9sl",
        "outputId": "4701b805-d94b-4678-c90d-1991bd5868d2"
      },
      "execution_count": 47,
      "outputs": [
        {
          "output_type": "display_data",
          "data": {
            "text/plain": [
              "<Figure size 432x288 with 1 Axes>"
            ],
            "image/png": "[encoded data removed]"
          },
          "metadata": {
            "needs_background": "light"
          }
        },
        {
          "output_type": "execute_result",
          "data": {
            "text/plain": [
              "class    0\n",
              "Name: 1, dtype: int64"
            ]
          },
          "metadata": {},
          "execution_count": 47
        }
      ]
    },
    {
      "cell_type": "markdown",
      "source": [
        "<font color='lightbluereen'>Je trouve ça pas ouf de prendre 0 car on peut confondre ça avec autre chose, prennons un exmeple plus obvious.</font>"
      ],
      "metadata": {
        "id": "IdKROvfz14ad"
      }
    },
    {
      "cell_type": "code",
      "source": [
        "import matplotlib as mpl\n",
        "import matplotlib.pyplot as plt\n",
        "chiffre = X.iloc[50]\n",
        "chiffre_image = chiffre.values.reshape(28,28)\n",
        "plt.imshow(chiffre_image, cmap=mpl.cm.binary, interpolation=\"nearest\")\n",
        "plt.axis(\"off\")\n",
        "plt.show()\n",
        "y.iloc[50]"
      ],
      "metadata": {
        "colab": {
          "base_uri": "https://localhost:8080/",
          "height": 285
        },
        "id": "0_fufDsK2Ew3",
        "outputId": "f1fd071b-822b-4554-e6e7-5ea17b8fccbe"
      },
      "execution_count": 46,
      "outputs": [
        {
          "output_type": "display_data",
          "data": {
            "text/plain": [
              "<Figure size 432x288 with 1 Axes>"
            ],
            "image/png": "[encoded data removed]"
          },
          "metadata": {
            "needs_background": "light"
          }
        },
        {
          "output_type": "execute_result",
          "data": {
            "text/plain": [
              "class    3\n",
              "Name: 50, dtype: int64"
            ]
          },
          "metadata": {},
          "execution_count": 46
        }
      ]
    },
    {
      "cell_type": "markdown",
      "source": [
        "<font color='red'>Que repr\u0013ésente Y?</font>\n",
        "\n",
        "<font color='lightbluereen'>Y est la variable que l'on cherche à prédire, ici un chiffre. (appellé \"class\")</font>\n",
        "\n",
        "<font color='red'>Que repr\u0013ésente la premi\u0012ère observation stock\u0013ée dans la variable Y?</font>"
      ],
      "metadata": {
        "id": "RmQpVeAW2N9r"
      }
    },
    {
      "cell_type": "code",
      "source": [
        "y.iloc[0]"
      ],
      "metadata": {
        "colab": {
          "base_uri": "https://localhost:8080/"
        },
        "id": "JdcH57Sc2iZG",
        "outputId": "cffb9cc4-e4b6-4703-9cc0-cb0bab2ad7cb"
      },
      "execution_count": 48,
      "outputs": [
        {
          "output_type": "execute_result",
          "data": {
            "text/plain": [
              "class    5\n",
              "Name: 0, dtype: int64"
            ]
          },
          "metadata": {},
          "execution_count": 48
        }
      ]
    },
    {
      "cell_type": "markdown",
      "source": [
        "<font color='lightbluereen'>Le chiffre 5</font>"
      ],
      "metadata": {
        "id": "yIm82K8I3FiE"
      }
    },
    {
      "cell_type": "markdown",
      "source": [
        "# **2 Pr\u0013éparation des donn\u0013ées**"
      ],
      "metadata": {
        "id": "ASnClVKN3RSy"
      }
    },
    {
      "cell_type": "markdown",
      "source": [
        "## 5 Divisez la base de donn\u0013ées en deux sous-bases : une base d'apprentissage et une base de test"
      ],
      "metadata": {
        "id": "3OCjhNyY4GWI"
      }
    },
    {
      "cell_type": "code",
      "source": [
        "import numpy as np\n",
        "y = y.astype(np.uint8).values.ravel()\n",
        "X_train, X_test, y_train, y_test = X[:4000], X[4000:], y[:4000], y[4000:]"
      ],
      "metadata": {
        "id": "Ati_nPKX4NWo"
      },
      "execution_count": 49,
      "outputs": []
    },
    {
      "cell_type": "markdown",
      "source": [
        "<font color='red'>Combien d'observations contient la base de test ? Quelle proportion de la base de donn\u0013ées cela repr\u0013ésente ?</font>\n",
        "\n",
        "<font color='lightbluereen'>1 000, soit $\\frac{1000}{5000}= 20\\%$</font>"
      ],
      "metadata": {
        "id": "D9uPAB6N7HDQ"
      }
    },
    {
      "cell_type": "markdown",
      "source": [
        "## 6 Vrai ou faux"
      ],
      "metadata": {
        "id": "BZtk4Vqd8GHy"
      }
    },
    {
      "cell_type": "markdown",
      "source": [
        "<font color='red'>La base de test est utilis\u0013ée pour tester la performance du mod\u0012èle.</font>\n",
        "\n",
        "<font color='lightbluereen'>Oui, c'est le principe du test set.</font>\n",
        "\n",
        "<font color='red'>Les r\u0013ésultats vont d\u0013épendre des observations incluses dans la base d'apprentissage et\n",
        "dans la base de test.</font>\n",
        "\n",
        "<font color='lightbluereen'>C'est quoi 'résultats' ? La qualité de l'entraînement ne dépend que de X_train et y_train. Par contre, les tests (résultats ?) dépendent biensûr de X_test et y_test...</font>\n",
        "\n",
        "<font color='red'>Il suffi\u000et de classer al\u0013éatoirement les observations avant la division de la base de donn\u0013ées\n",
        "en deux pour obtenir toujours les mêmes performances pour un mod\u0012èle donné.</font>\n",
        "\n",
        "<font color='lightbluereen'>Si on donne à 2 étudiants de la même promo 2 livres à lire différents sur la physique et qu'ils ont un contrôle de physique, ils auront des notes différentes (d'autant plus que les 'contrôles' seront différents pour le coup).</font>"
      ],
      "metadata": {
        "id": "acXz9dVo8LQR"
      }
    },
    {
      "cell_type": "markdown",
      "source": [
        "## **7**"
      ],
      "metadata": {
        "id": "prp5qPIQCHhZ"
      }
    },
    {
      "cell_type": "code",
      "source": [
        "from sklearn.model_selection import train_test_split\n",
        "X_train, X_test, y_train, y_test = train_test_split(X, y, test_size=0.2, random_state=2)"
      ],
      "metadata": {
        "id": "tdnuSh2_BASh"
      },
      "execution_count": 50,
      "outputs": []
    },
    {
      "cell_type": "markdown",
      "source": [
        "## **<font color='red'>8 Combien d'observations contient la base de test ? Quelle proportion de la base de donn\u0013ées cela repr\u0013ésente ?</font>**"
      ],
      "metadata": {
        "id": "AfewCvhdBZTB"
      }
    },
    {
      "cell_type": "code",
      "source": [
        "X_test"
      ],
      "metadata": {
        "colab": {
          "base_uri": "https://localhost:8080/",
          "height": 424
        },
        "id": "xSqsX5ghBfzS",
        "outputId": "54db3bf8-b909-4d46-88c1-3f9ad6b0d1e0"
      },
      "execution_count": 51,
      "outputs": [
        {
          "output_type": "execute_result",
          "data": {
            "text/plain": [
              "      pixel1  pixel2  pixel3  pixel4  pixel5  pixel6  pixel7  pixel8  pixel9  \\\n",
              "3566       0       0       0       0       0       0       0       0       0   \n",
              "4252       0       0       0       0       0       0       0       0       0   \n",
              "1918       0       0       0       0       0       0       0       0       0   \n",
              "4111       0       0       0       0       0       0       0       0       0   \n",
              "1471       0       0       0       0       0       0       0       0       0   \n",
              "...      ...     ...     ...     ...     ...     ...     ...     ...     ...   \n",
              "2987       0       0       0       0       0       0       0       0       0   \n",
              "3564       0       0       0       0       0       0       0       0       0   \n",
              "1447       0       0       0       0       0       0       0       0       0   \n",
              "742        0       0       0       0       0       0       0       0       0   \n",
              "4121       0       0       0       0       0       0       0       0       0   \n",
              "\n",
              "      pixel10  ...  pixel775  pixel776  pixel777  pixel778  pixel779  \\\n",
              "3566        0  ...         0         0         0         0         0   \n",
              "4252        0  ...         0         0         0         0         0   \n",
              "1918        0  ...         0         0         0         0         0   \n",
              "4111        0  ...         0         0         0         0         0   \n",
              "1471        0  ...         0         0         0         0         0   \n",
              "...       ...  ...       ...       ...       ...       ...       ...   \n",
              "2987        0  ...         0         0         0         0         0   \n",
              "3564        0  ...         0         0         0         0         0   \n",
              "1447        0  ...         0         0         0         0         0   \n",
              "742         0  ...         0         0         0         0         0   \n",
              "4121        0  ...         0         0         0         0         0   \n",
              "\n",
              "      pixel780  pixel781  pixel782  pixel783  pixel784  \n",
              "3566         0         0         0         0         0  \n",
              "4252         0         0         0         0         0  \n",
              "1918         0         0         0         0         0  \n",
              "4111         0         0         0         0         0  \n",
              "1471         0         0         0         0         0  \n",
              "...        ...       ...       ...       ...       ...  \n",
              "2987         0         0         0         0         0  \n",
              "3564         0         0         0         0         0  \n",
              "1447         0         0         0         0         0  \n",
              "742          0         0         0         0         0  \n",
              "4121         0         0         0         0         0  \n",
              "\n",
              "[1000 rows x 784 columns]"
            ],
            "text/html": [
              "\n",
              "  <div id=\"df-77e33af1-b7f1-4398-abaa-417ef823abe3\">\n",
              "    <div class=\"colab-df-container\">\n",
              "      <div>\n",
              "<style scoped>\n",
              "    .dataframe tbody tr th:only-of-type {\n",
              "        vertical-align: middle;\n",
              "    }\n",
              "\n",
              "    .dataframe tbody tr th {\n",
              "        vertical-align: top;\n",
              "    }\n",
              "\n",
              "    .dataframe thead th {\n",
              "        text-align: right;\n",
              "    }\n",
              "</style>\n",
              "<table border=\"1\" class=\"dataframe\">\n",
              "  <thead>\n",
              "    <tr style=\"text-align: right;\">\n",
              "      <th></th>\n",
              "      <th>pixel1</th>\n",
              "      <th>pixel2</th>\n",
              "      <th>pixel3</th>\n",
              "      <th>pixel4</th>\n",
              "      <th>pixel5</th>\n",
              "      <th>pixel6</th>\n",
              "      <th>pixel7</th>\n",
              "      <th>pixel8</th>\n",
              "      <th>pixel9</th>\n",
              "      <th>pixel10</th>\n",
              "      <th>...</th>\n",
              "      <th>pixel775</th>\n",
              "      <th>pixel776</th>\n",
              "      <th>pixel777</th>\n",
              "      <th>pixel778</th>\n",
              "      <th>pixel779</th>\n",
              "      <th>pixel780</th>\n",
              "      <th>pixel781</th>\n",
              "      <th>pixel782</th>\n",
              "      <th>pixel783</th>\n",
              "      <th>pixel784</th>\n",
              "    </tr>\n",
              "  </thead>\n",
              "  <tbody>\n",
              "    <tr>\n",
              "      <th>3566</th>\n",
              "      <td>0</td>\n",
              "      <td>0</td>\n",
              "      <td>0</td>\n",
              "      <td>0</td>\n",
              "      <td>0</td>\n",
              "      <td>0</td>\n",
              "      <td>0</td>\n",
              "      <td>0</td>\n",
              "      <td>0</td>\n",
              "      <td>0</td>\n",
              "      <td>...</td>\n",
              "      <td>0</td>\n",
              "      <td>0</td>\n",
              "      <td>0</td>\n",
              "      <td>0</td>\n",
              "      <td>0</td>\n",
              "      <td>0</td>\n",
              "      <td>0</td>\n",
              "      <td>0</td>\n",
              "      <td>0</td>\n",
              "      <td>0</td>\n",
              "    </tr>\n",
              "    <tr>\n",
              "      <th>4252</th>\n",
              "      <td>0</td>\n",
              "      <td>0</td>\n",
              "      <td>0</td>\n",
              "      <td>0</td>\n",
              "      <td>0</td>\n",
              "      <td>0</td>\n",
              "      <td>0</td>\n",
              "      <td>0</td>\n",
              "      <td>0</td>\n",
              "      <td>0</td>\n",
              "      <td>...</td>\n",
              "      <td>0</td>\n",
              "      <td>0</td>\n",
              "      <td>0</td>\n",
              "      <td>0</td>\n",
              "      <td>0</td>\n",
              "      <td>0</td>\n",
              "      <td>0</td>\n",
              "      <td>0</td>\n",
              "      <td>0</td>\n",
              "      <td>0</td>\n",
              "    </tr>\n",
              "    <tr>\n",
              "      <th>1918</th>\n",
              "      <td>0</td>\n",
              "      <td>0</td>\n",
              "      <td>0</td>\n",
              "      <td>0</td>\n",
              "      <td>0</td>\n",
              "      <td>0</td>\n",
              "      <td>0</td>\n",
              "      <td>0</td>\n",
              "      <td>0</td>\n",
              "      <td>0</td>\n",
              "      <td>...</td>\n",
              "      <td>0</td>\n",
              "      <td>0</td>\n",
              "      <td>0</td>\n",
              "      <td>0</td>\n",
              "      <td>0</td>\n",
              "      <td>0</td>\n",
              "      <td>0</td>\n",
              "      <td>0</td>\n",
              "      <td>0</td>\n",
              "      <td>0</td>\n",
              "    </tr>\n",
              "    <tr>\n",
              "      <th>4111</th>\n",
              "      <td>0</td>\n",
              "      <td>0</td>\n",
              "      <td>0</td>\n",
              "      <td>0</td>\n",
              "      <td>0</td>\n",
              "      <td>0</td>\n",
              "      <td>0</td>\n",
              "      <td>0</td>\n",
              "      <td>0</td>\n",
              "      <td>0</td>\n",
              "      <td>...</td>\n",
              "      <td>0</td>\n",
              "      <td>0</td>\n",
              "      <td>0</td>\n",
              "      <td>0</td>\n",
              "      <td>0</td>\n",
              "      <td>0</td>\n",
              "      <td>0</td>\n",
              "      <td>0</td>\n",
              "      <td>0</td>\n",
              "      <td>0</td>\n",
              "    </tr>\n",
              "    <tr>\n",
              "      <th>1471</th>\n",
              "      <td>0</td>\n",
              "      <td>0</td>\n",
              "      <td>0</td>\n",
              "      <td>0</td>\n",
              "      <td>0</td>\n",
              "      <td>0</td>\n",
              "      <td>0</td>\n",
              "      <td>0</td>\n",
              "      <td>0</td>\n",
              "      <td>0</td>\n",
              "      <td>...</td>\n",
              "      <td>0</td>\n",
              "      <td>0</td>\n",
              "      <td>0</td>\n",
              "      <td>0</td>\n",
              "      <td>0</td>\n",
              "      <td>0</td>\n",
              "      <td>0</td>\n",
              "      <td>0</td>\n",
              "      <td>0</td>\n",
              "      <td>0</td>\n",
              "    </tr>\n",
              "    <tr>\n",
              "      <th>...</th>\n",
              "      <td>...</td>\n",
              "      <td>...</td>\n",
              "      <td>...</td>\n",
              "      <td>...</td>\n",
              "      <td>...</td>\n",
              "      <td>...</td>\n",
              "      <td>...</td>\n",
              "      <td>...</td>\n",
              "      <td>...</td>\n",
              "      <td>...</td>\n",
              "      <td>...</td>\n",
              "      <td>...</td>\n",
              "      <td>...</td>\n",
              "      <td>...</td>\n",
              "      <td>...</td>\n",
              "      <td>...</td>\n",
              "      <td>...</td>\n",
              "      <td>...</td>\n",
              "      <td>...</td>\n",
              "      <td>...</td>\n",
              "      <td>...</td>\n",
              "    </tr>\n",
              "    <tr>\n",
              "      <th>2987</th>\n",
              "      <td>0</td>\n",
              "      <td>0</td>\n",
              "      <td>0</td>\n",
              "      <td>0</td>\n",
              "      <td>0</td>\n",
              "      <td>0</td>\n",
              "      <td>0</td>\n",
              "      <td>0</td>\n",
              "      <td>0</td>\n",
              "      <td>0</td>\n",
              "      <td>...</td>\n",
              "      <td>0</td>\n",
              "      <td>0</td>\n",
              "      <td>0</td>\n",
              "      <td>0</td>\n",
              "      <td>0</td>\n",
              "      <td>0</td>\n",
              "      <td>0</td>\n",
              "      <td>0</td>\n",
              "      <td>0</td>\n",
              "      <td>0</td>\n",
              "    </tr>\n",
              "    <tr>\n",
              "      <th>3564</th>\n",
              "      <td>0</td>\n",
              "      <td>0</td>\n",
              "      <td>0</td>\n",
              "      <td>0</td>\n",
              "      <td>0</td>\n",
              "      <td>0</td>\n",
              "      <td>0</td>\n",
              "      <td>0</td>\n",
              "      <td>0</td>\n",
              "      <td>0</td>\n",
              "      <td>...</td>\n",
              "      <td>0</td>\n",
              "      <td>0</td>\n",
              "      <td>0</td>\n",
              "      <td>0</td>\n",
              "      <td>0</td>\n",
              "      <td>0</td>\n",
              "      <td>0</td>\n",
              "      <td>0</td>\n",
              "      <td>0</td>\n",
              "      <td>0</td>\n",
              "    </tr>\n",
              "    <tr>\n",
              "      <th>1447</th>\n",
              "      <td>0</td>\n",
              "      <td>0</td>\n",
              "      <td>0</td>\n",
              "      <td>0</td>\n",
              "      <td>0</td>\n",
              "      <td>0</td>\n",
              "      <td>0</td>\n",
              "      <td>0</td>\n",
              "      <td>0</td>\n",
              "      <td>0</td>\n",
              "      <td>...</td>\n",
              "      <td>0</td>\n",
              "      <td>0</td>\n",
              "      <td>0</td>\n",
              "      <td>0</td>\n",
              "      <td>0</td>\n",
              "      <td>0</td>\n",
              "      <td>0</td>\n",
              "      <td>0</td>\n",
              "      <td>0</td>\n",
              "      <td>0</td>\n",
              "    </tr>\n",
              "    <tr>\n",
              "      <th>742</th>\n",
              "      <td>0</td>\n",
              "      <td>0</td>\n",
              "      <td>0</td>\n",
              "      <td>0</td>\n",
              "      <td>0</td>\n",
              "      <td>0</td>\n",
              "      <td>0</td>\n",
              "      <td>0</td>\n",
              "      <td>0</td>\n",
              "      <td>0</td>\n",
              "      <td>...</td>\n",
              "      <td>0</td>\n",
              "      <td>0</td>\n",
              "      <td>0</td>\n",
              "      <td>0</td>\n",
              "      <td>0</td>\n",
              "      <td>0</td>\n",
              "      <td>0</td>\n",
              "      <td>0</td>\n",
              "      <td>0</td>\n",
              "      <td>0</td>\n",
              "    </tr>\n",
              "    <tr>\n",
              "      <th>4121</th>\n",
              "      <td>0</td>\n",
              "      <td>0</td>\n",
              "      <td>0</td>\n",
              "      <td>0</td>\n",
              "      <td>0</td>\n",
              "      <td>0</td>\n",
              "      <td>0</td>\n",
              "      <td>0</td>\n",
              "      <td>0</td>\n",
              "      <td>0</td>\n",
              "      <td>...</td>\n",
              "      <td>0</td>\n",
              "      <td>0</td>\n",
              "      <td>0</td>\n",
              "      <td>0</td>\n",
              "      <td>0</td>\n",
              "      <td>0</td>\n",
              "      <td>0</td>\n",
              "      <td>0</td>\n",
              "      <td>0</td>\n",
              "      <td>0</td>\n",
              "    </tr>\n",
              "  </tbody>\n",
              "</table>\n",
              "<p>1000 rows × 784 columns</p>\n",
              "</div>\n",
              "      <button class=\"colab-df-convert\" onclick=\"convertToInteractive('df-77e33af1-b7f1-4398-abaa-417ef823abe3')\"\n",
              "              title=\"Convert this dataframe to an interactive table.\"\n",
              "              style=\"display:none;\">\n",
              "        \n",
              "  <svg xmlns=\"http://www.w3.org/2000/svg\" height=\"24px\"viewBox=\"0 0 24 24\"\n",
              "       width=\"24px\">\n",
              "    <path d=\"M0 0h24v24H0V0z\" fill=\"none\"/>\n",
              "    <path d=\"M18.56 5.44l.94 2.06.94-2.06 2.06-.94-2.06-.94-.94-2.06-.94 2.06-2.06.94zm-11 1L8.5 8.5l.94-2.06 2.06-.94-2.06-.94L8.5 2.5l-.94 2.06-2.06.94zm10 10l.94 2.06.94-2.06 2.06-.94-2.06-.94-.94-2.06-.94 2.06-2.06.94z\"/><path d=\"M17.41 7.96l-1.37-1.37c-.4-.4-.92-.59-1.43-.59-.52 0-1.04.2-1.43.59L10.3 9.45l-7.72 7.72c-.78.78-.78 2.05 0 2.83L4 21.41c.39.39.9.59 1.41.59.51 0 1.02-.2 1.41-.59l7.78-7.78 2.81-2.81c.8-.78.8-2.07 0-2.86zM5.41 20L4 18.59l7.72-7.72 1.47 1.35L5.41 20z\"/>\n",
              "  </svg>\n",
              "      </button>\n",
              "      \n",
              "  <style>\n",
              "    .colab-df-container {\n",
              "      display:flex;\n",
              "      flex-wrap:wrap;\n",
              "      gap: 12px;\n",
              "    }\n",
              "\n",
              "    .colab-df-convert {\n",
              "      background-color: #E8F0FE;\n",
              "      border: none;\n",
              "      border-radius: 50%;\n",
              "      cursor: pointer;\n",
              "      display: none;\n",
              "      fill: #1967D2;\n",
              "      height: 32px;\n",
              "      padding: 0 0 0 0;\n",
              "      width: 32px;\n",
              "    }\n",
              "\n",
              "    .colab-df-convert:hover {\n",
              "      background-color: #E2EBFA;\n",
              "      box-shadow: 0px 1px 2px rgba(60, 64, 67, 0.3), 0px 1px 3px 1px rgba(60, 64, 67, 0.15);\n",
              "      fill: #174EA6;\n",
              "    }\n",
              "\n",
              "    [theme=dark] .colab-df-convert {\n",
              "      background-color: #3B4455;\n",
              "      fill: #D2E3FC;\n",
              "    }\n",
              "\n",
              "    [theme=dark] .colab-df-convert:hover {\n",
              "      background-color: #434B5C;\n",
              "      box-shadow: 0px 1px 3px 1px rgba(0, 0, 0, 0.15);\n",
              "      filter: drop-shadow(0px 1px 2px rgba(0, 0, 0, 0.3));\n",
              "      fill: #FFFFFF;\n",
              "    }\n",
              "  </style>\n",
              "\n",
              "      <script>\n",
              "        const buttonEl =\n",
              "          document.querySelector('#df-77e33af1-b7f1-4398-abaa-417ef823abe3 button.colab-df-convert');\n",
              "        buttonEl.style.display =\n",
              "          google.colab.kernel.accessAllowed ? 'block' : 'none';\n",
              "\n",
              "        async function convertToInteractive(key) {\n",
              "          const element = document.querySelector('#df-77e33af1-b7f1-4398-abaa-417ef823abe3');\n",
              "          const dataTable =\n",
              "            await google.colab.kernel.invokeFunction('convertToInteractive',\n",
              "                                                     [key], {});\n",
              "          if (!dataTable) return;\n",
              "\n",
              "          const docLinkHtml = 'Like what you see? Visit the ' +\n",
              "            '<a target=\"_blank\" href=https://colab.research.google.com/notebooks/data_table.ipynb>data table notebook</a>'\n",
              "            + ' to learn more about interactive tables.';\n",
              "          element.innerHTML = '';\n",
              "          dataTable['output_type'] = 'display_data';\n",
              "          await google.colab.output.renderOutput(dataTable, element);\n",
              "          const docLink = document.createElement('div');\n",
              "          docLink.innerHTML = docLinkHtml;\n",
              "          element.appendChild(docLink);\n",
              "        }\n",
              "      </script>\n",
              "    </div>\n",
              "  </div>\n",
              "  "
            ]
          },
          "metadata": {},
          "execution_count": 51
        }
      ]
    },
    {
      "cell_type": "markdown",
      "source": [
        "<font color='lightbluereen'>1 000, soit $\\frac{1000}{5000}= 20\\%$</font>"
      ],
      "metadata": {
        "id": "YkfSSLEjBuaI"
      }
    },
    {
      "cell_type": "markdown",
      "source": [
        "## **9 Cr\u0013éez la variable de r\u0013éponse suivante**"
      ],
      "metadata": {
        "id": "4ein-w16CQPH"
      }
    },
    {
      "cell_type": "code",
      "source": [
        "y_train_0 = (y_train == 0)\n",
        "y_test_0 = (y_test == 0)"
      ],
      "metadata": {
        "id": "kZW6ULxeCUk2"
      },
      "execution_count": 52,
      "outputs": []
    },
    {
      "cell_type": "markdown",
      "source": [
        "<font color='red'>Dans quel cas cette variable vaut 1 ? Dans quel cas vaut-elle 0 ?</font>\n",
        "\n",
        "<font color='lightbluereen'>y_XX_0 vaut 1 si $y$ vaut 0, et 0 si $y \\in \\mathbb{N}^{*}$ (Enfait c'est plutot True pour 1 et False pour 0, mais bon)</font>"
      ],
      "metadata": {
        "id": "7RwwU-DSFCB9"
      }
    },
    {
      "cell_type": "markdown",
      "source": [
        "# **3 Classification**"
      ],
      "metadata": {
        "id": "YzpXEpAVGRLS"
      }
    },
    {
      "cell_type": "markdown",
      "source": [
        "## 3.1 Entraînement"
      ],
      "metadata": {
        "id": "-NwsQJDEGUNu"
      }
    },
    {
      "cell_type": "markdown",
      "source": [
        "## 10"
      ],
      "metadata": {
        "id": "Bn6Djb4OLdSD"
      }
    },
    {
      "cell_type": "code",
      "source": [
        "from sklearn.linear_model import SGDClassifier\n",
        "sgd_clf = SGDClassifier(loss=\"log\", random_state=42)\n",
        "sgd_clf.fit(X_train, y_train_0)\n",
        "sgd_clf.predict([chiffre])"
      ],
      "metadata": {
        "colab": {
          "base_uri": "https://localhost:8080/"
        },
        "id": "m6aCR9W6Ga2r",
        "outputId": "248f6deb-4c0b-4c7d-b43b-658bc409e81c"
      },
      "execution_count": 53,
      "outputs": [
        {
          "output_type": "stream",
          "name": "stderr",
          "text": [
            "/usr/local/lib/python3.7/dist-packages/sklearn/base.py:451: UserWarning: X does not have valid feature names, but SGDClassifier was fitted with feature names\n",
            "  \"X does not have valid feature names, but\"\n"
          ]
        },
        {
          "output_type": "execute_result",
          "data": {
            "text/plain": [
              "array([ True])"
            ]
          },
          "metadata": {},
          "execution_count": 53
        }
      ]
    },
    {
      "cell_type": "markdown",
      "source": [
        "Pour éviter ce message de merde, je propose plutôt ce code :"
      ],
      "metadata": {
        "id": "Bxg3z7qoHR3b"
      }
    },
    {
      "cell_type": "code",
      "source": [
        "from sklearn.linear_model import SGDClassifier\n",
        "sgd_clf = SGDClassifier(loss=\"log\", random_state=42)\n",
        "sgd_clf.fit(X_train.values, y_train_0)\n",
        "sgd_clf.predict([chiffre])"
      ],
      "metadata": {
        "colab": {
          "base_uri": "https://localhost:8080/"
        },
        "id": "B9I98-a6HXi5",
        "outputId": "5c01968f-c02e-4aa3-8029-0f3304fbc686"
      },
      "execution_count": 54,
      "outputs": [
        {
          "output_type": "execute_result",
          "data": {
            "text/plain": [
              "array([ True])"
            ]
          },
          "metadata": {},
          "execution_count": 54
        }
      ]
    },
    {
      "cell_type": "markdown",
      "source": [
        "## 11"
      ],
      "metadata": {
        "id": "Dpj5vrUALhoG"
      }
    },
    {
      "cell_type": "markdown",
      "source": [
        "\n",
        "<font color='red'>Quel mod\u0012èle a-t-on utilis\u0013é ?</font>\n",
        "\n",
        "<font color='lightbluereen'>Le \"SGDClassifier\", c'est-à-dire un modèle de classification linéaire par descente de gradient stochastique, pour aller plus vite qu'une simple descente de gradient comme le dataset est grand (comme loss='log' on fait une régression logistique)</font>\n",
        "\n",
        "<font color='red'>Avons nous r\u0013éussi \u0012a pr\u0013édire correctement le chi\u000bre 0 ?</font>\n",
        "\n",
        "<font color='lightbluereen'>Oui car</font>\n",
        "\n",
        "\n",
        "```\n",
        "sgd_clf.predict([chiffre])\n",
        "```\n",
        "<font color='lightbluereen'>renvoie</font>\n",
        "```\n",
        "array([True])\n",
        "```\n"
      ],
      "metadata": {
        "id": "j9HmVotELZzh"
      }
    },
    {
      "cell_type": "markdown",
      "source": [
        "## 12"
      ],
      "metadata": {
        "id": "bV2pF0kKNOuE"
      }
    },
    {
      "cell_type": "markdown",
      "source": [
        "\n",
        "<font color='red'>A quoi sert l'algorithme de descente de gradient ? Comment fonctionne-t-il ?</font>\n",
        "\n",
        "<font color='lightbluereen'>Il sert à entraîner un modèle de ML dans l'apprentissage supervisé en réduisant les erreurs de prédiction. Pour cela, on va minimiser l'erreur quadratique moyenne </font>\n",
        "$$\\frac{1}{n}\\sum_{i=0}^{n}(y_i - \\hat{y}_i)^2 $$\n",
        "<font color='lightbluereen'>non pas analytiquement mais algorithmiquement, en cherchant le minimum de \"cost\" en fonction d'un certain taux d'apprentissage.</font>\n",
        "\n",
        "<font color='red'>Vrai ou faux : l'initialisation de l'algorithme de descente de gradient consiste \u0012à choisir des param\u0012ètres au hasard ?</font>\n",
        "\n",
        "<font color='lightbluereen'>Vrai, car on ne connaît pas les meilleurs paramètres dès le départ.</font>\n",
        "\n",
        "<font color='red'>Vrai ou faux : l'algorithme de descente de gradient converge toujours vers le minimum global ?</font>\n",
        "\n",
        "<font color='lightbluereen'>Faux, il peut atteindre un minimum local, par exemple dans le cas d'une fonction de coût non-convexe :</font>\n",
        "\n",
        "<div align=\"center\">\n",
        "  <img src=\"https://i0.wp.com/blog.paperspace.com/content/images/2018/05/challenges-1.png?w=1200&ssl=1\" width=\"50%\" height=\"50%\"> \n",
        "</div>\n",
        "\n",
        "\n"
      ],
      "metadata": {
        "id": "WHvz2ZcbNRBD"
      }
    },
    {
      "cell_type": "markdown",
      "source": [
        "## 13"
      ],
      "metadata": {
        "id": "0tWGkj4yUq1j"
      }
    },
    {
      "cell_type": "markdown",
      "source": [
        "<font color='red'>Quel est le principal avantage de la r\u0013égression logistique sur la r\u0013égression lin\u0013éaire lorsque Y est binaire ?</font>\n",
        "\n",
        "<font color='lightbluereen'>Cela permet d'obtenir une prédiction (probabilité) $\\in [0;1]$</font>\n",
        "\n",
        "<font color='red'>Vrai ou faux : dans le cadre de la r\u0013égression logistique, on peut utiliser les \u0013équations normales pour trouver les param\u0012ètres d'int\u0013erêt.</font>\n",
        "\n",
        "<font color='lightbluereen'>Faux, on utilise la descente de gradient.</font>\n",
        "\n",
        "<font color='red'>Vrai ou faux : le mod\u0012ele de r\u0013égression logistique est un mod\u0012ele lin\u0013éaire.</font>\n",
        "\n",
        "<font color='lightbluereen'>Vrai, car le calcul de probabilités est fait par combinaison linéaire des $X_i$.</font>"
      ],
      "metadata": {
        "id": "Mu63fXL-UtNI"
      }
    },
    {
      "cell_type": "markdown",
      "source": [
        "## 3.2 Validation Croisée"
      ],
      "metadata": {
        "id": "TQeFdPLraepl"
      }
    },
    {
      "cell_type": "markdown",
      "source": [
        "## 14"
      ],
      "metadata": {
        "id": "ykCFfH_rap_k"
      }
    },
    {
      "cell_type": "code",
      "source": [
        "from sklearn.model_selection import cross_val_score\n",
        "cross_val_score(sgd_clf, X_train, y_train, cv=3, scoring=\"accuracy\")"
      ],
      "metadata": {
        "colab": {
          "base_uri": "https://localhost:8080/"
        },
        "id": "0lArjOMparkD",
        "outputId": "4961e914-4978-4f87-d356-004ff337d1fd"
      },
      "execution_count": 55,
      "outputs": [
        {
          "output_type": "execute_result",
          "data": {
            "text/plain": [
              "array([0.85082459, 0.87096774, 0.86946737])"
            ]
          },
          "metadata": {},
          "execution_count": 55
        }
      ]
    },
    {
      "cell_type": "markdown",
      "source": [
        "## 15"
      ],
      "metadata": {
        "id": "3g92_ooSgngk"
      }
    },
    {
      "cell_type": "markdown",
      "source": [
        "<font color='red'>En combien de groupes (”folds”) la base d’entraînement est-elle divisée ?</font>\n",
        "\n",
        "<font color='lightbluereen'>Ici, cv = 3</font>\n",
        "\n",
        "<font color='red'>Quelle est la performance (”accuracy”) du modèle sur chacun des groupes ?</font>\n",
        "\n",
        "<font color='lightbluereen'>On obtient respectivement : 85%, 87%, 86%</font>\n"
      ],
      "metadata": {
        "id": "jCLDuFPMgpTs"
      }
    },
    {
      "cell_type": "markdown",
      "source": [
        "## 16"
      ],
      "metadata": {
        "id": "X_tc7I3ohOrH"
      }
    },
    {
      "cell_type": "markdown",
      "source": [
        "<font color='red'>Pourquoi utilise-t-on la validation croisée ?</font>\n",
        "\n",
        "<font color='lightbluereen'>La validation croisée permet de se baser sur une moyenne de performances, au lieu d'une seule étape d'évaluation d'un modèle basé sur un seul test set \"statique\".</font>\n",
        "\n",
        "<font color='red'>Quelle est la différence entre la LOOCV (Leave one out cross-validation) et la k-fold cross validation ?</font>\n",
        "\n",
        "<font color='lightbluereen'>LOOCV :  On itère les test sur les observations \"seules\" $n-i$ avec $i \\in 1...n$</font>\n",
        "\n",
        "<font color='lightbluereen'>K-folds :  On itère les test sur les observations \"en groupe\" $n-k$ avec $k \\in 1...n$</font>\n",
        "\n",
        "<font color='red'>Vrai ou faux : lorsque $k=n$, la LOOCV et la k-fold cross validation donnent les mêmes résultats</font>\n",
        "\n",
        "<font color='lightbluereen'>Vrai, ce sont les mêmes choses puisque la LOOCV est un cas particulier de K-Fold quand k=1.</font>\n",
        "\n",
        "<font color='red'>Vrai ou faux : l’avantage de la LOOCV sur la k-fold cross validation est d’ordre computationnel</font>\n",
        "\n",
        "<font color='lightbluereen'>Faux, c'est l'inverse, la K-Fold est moins gourmande car elle itère moins.</font>\n",
        "\n",
        "<font color='red'>Vrai ou faux : la LOOCV apporte des résultats différents si on l’implémente plusieurs fois (en utilisant la même base de données et les mêmes modèles)</font>\n",
        "\n",
        "<font color='lightbluereen'>Faux, car avec la LOOCV on itère sur tous les cas possibles de test.</font>"
      ],
      "metadata": {
        "id": "9u6jCxZzhTcy"
      }
    },
    {
      "cell_type": "markdown",
      "source": [
        "## 3.3 Comparaison avec un estimateur naïf"
      ],
      "metadata": {
        "id": "4Pb7B25nkdNc"
      }
    },
    {
      "cell_type": "markdown",
      "source": [
        "## 17"
      ],
      "metadata": {
        "id": "iKLixWH2klSG"
      }
    },
    {
      "cell_type": "code",
      "source": [
        "from sklearn.base import BaseEstimator\n",
        "class Never0Classifier(BaseEstimator):\n",
        "    def fit(self, X, y=None):\n",
        "        pass\n",
        "    def predict(self, X):\n",
        "        # Ici on retourne une liste inconditionnelle de \"False\"\n",
        "        return np.zeros((len(X), 1), dtype=bool)\n",
        "\n",
        "never_0_clf = Never0Classifier()\n",
        "cross_val_score(never_0_clf, X_train, y_train_0, cv=3, scoring=\"accuracy\")"
      ],
      "metadata": {
        "colab": {
          "base_uri": "https://localhost:8080/"
        },
        "id": "kPV8cq18knGf",
        "outputId": "712a4648-de31-496c-aaf3-40d089767cb1"
      },
      "execution_count": 60,
      "outputs": [
        {
          "output_type": "execute_result",
          "data": {
            "text/plain": [
              "array([0.91604198, 0.89272318, 0.90697674])"
            ]
          },
          "metadata": {},
          "execution_count": 60
        }
      ]
    },
    {
      "cell_type": "markdown",
      "source": [
        "## 18"
      ],
      "metadata": {
        "id": "fVqypZD-ldBm"
      }
    },
    {
      "cell_type": "markdown",
      "source": [
        "<font color='red'>Pourquoi cet estimateur est-il considéré comme un estimateur naïf ?</font>\n",
        "\n",
        "<font color='lightbluereen'>Car il renvoie toujours \"False\" à la question \"l'image est-elle un 0 ?\" : elle a raison dans 90% des cas car ...</font>"
      ],
      "metadata": {
        "id": "Dhqm7nFw2OOw"
      }
    },
    {
      "cell_type": "code",
      "source": [
        "df_y = pandas.DataFrame(y)\n",
        "print(f\"Il y a {len(df_y[df_y[0]!=0])} chiffres différents de 0 sur {len(df_y)} soit {(len(df_y[df_y[0]!=0])) / (len(df_y)) * 100} %\")"
      ],
      "metadata": {
        "colab": {
          "base_uri": "https://localhost:8080/"
        },
        "id": "X594ZxNl1BTp",
        "outputId": "85f924ae-91bd-4463-b7e4-f00c2afae2e2"
      },
      "execution_count": 76,
      "outputs": [
        {
          "output_type": "stream",
          "name": "stdout",
          "text": [
            "Il y a 4521 chiffres différents de 0 sur 5000 soit 90.42 %\n"
          ]
        }
      ]
    },
    {
      "cell_type": "markdown",
      "source": [
        "<font color='red'>Pourquoi est-ce important de comparer nos résultats avec ceux obtenus grâce à cet estimateur ?</font>\n",
        "\n",
        "<font color='lightbluereen'>Car cela permet de savoir si nos résultats sont vraiment bons, ou bien s'ils ne font pas mieux que la technique de dire \"False\" à toutes les prédictions.</font>\n",
        "\n",
        "<font color='red'>Obtient-on des meilleurs performances que l’estimateur naïf ?</font>\n",
        "\n",
        "<font color='lightbluereen'>Avec le naïf on obtient :</font>\n",
        "\n",
        "\n",
        "```\n",
        "array([0.91604198, 0.89272318, 0.90697674])\n",
        "```\n",
        "<font color='lightbluereen'>Avec le SGD on obtient :</font>\n",
        "\n",
        "\n",
        "```\n",
        "array([0.85082459, 0.87096774, 0.86946737])\n",
        "```\n",
        "\n",
        "<font color='lightbluereen'>Donc non.</font>"
      ],
      "metadata": {
        "id": "C9xUnble2UT5"
      }
    },
    {
      "cell_type": "markdown",
      "source": [
        "# **4 Mesurer la performance de l’estimateur**"
      ],
      "metadata": {
        "id": "O1VMB-MO3aoA"
      }
    },
    {
      "cell_type": "markdown",
      "source": [
        "## 19"
      ],
      "metadata": {
        "id": "sOLSHtcB3tWS"
      }
    },
    {
      "cell_type": "code",
      "source": [
        "from sklearn.model_selection import cross_val_predict\n",
        "y_train_pred = cross_val_predict(sgd_clf, X_train, y_train_0, cv=3)\n",
        "# from sklearn.metrics import confusion_matrix --> Why ?\n",
        "from sklearn.metrics import classification_report, confusion_matrix # accuracy_score --> Why ?\n",
        "confusion_matrix(y_train_0, y_train_pred)"
      ],
      "metadata": {
        "colab": {
          "base_uri": "https://localhost:8080/"
        },
        "id": "gaL9W3y13ujr",
        "outputId": "bbe23b99-4b42-40a6-e201-d10198a5e5bd"
      },
      "execution_count": 82,
      "outputs": [
        {
          "output_type": "execute_result",
          "data": {
            "text/plain": [
              "array([[3592,   29],\n",
              "       [  27,  352]])"
            ]
          },
          "metadata": {},
          "execution_count": 82
        }
      ]
    },
    {
      "cell_type": "markdown",
      "source": [
        "## 20"
      ],
      "metadata": {
        "id": "b_rOey9b4zRv"
      }
    },
    {
      "cell_type": "markdown",
      "source": [
        "<font color='red'>Qu’est-ce qu’une matrice de confusion ?</font>\n",
        "\n",
        "<font color='lightbluereen'>Lors d'une classification, pour mesurer la qualité des estimations, on dresse un tableau qui croise les valeurs prédites avec les vraies valeurs : c'est la confusion matrix.</font>\n",
        "\n",
        "<font color='red'>Donnez le nombre de (I) vrai négatif, (II) faux positif, (III) faux négatif et (IV) vrai positif.</font>\n",
        "\n",
        "<font color='lightbluereen'>\n",
        "<ul>\n",
        "<li>I : 3592</li>\n",
        "<li>II : 29</li>\n",
        "<li>III : 27</li>\n",
        "<li>IV : 352</li></ul></font>\n",
        "\n",
        "<font color='red'>Calculez la précision.</font>\n",
        "\n",
        "<font color='lightbluereen'>\n",
        "$$Precision = \\frac{VP}{VP+FP} = \\frac{VP}{N_{positif}^{prédit}}$$\n",
        "$$Precision = \\frac{352}{352+29} \t\\approx 0.92$$</font>\n",
        "\n",
        "<font color='red'>Calculez le rappel.</font>\n",
        "\n",
        "<font color='lightbluereen'>\n",
        "$$Rappel = \\frac{VP}{VP+FN} = \\frac{VP}{N_{positif}^{réalité}}$$\n",
        "$$Rappel = \\frac{352}{352+27} \t\\approx 0.92$$</font>\n",
        "\n",
        "<font color='red'>Calculez l’erreur de classification moyenne.</font>\n",
        "\n",
        "<font color='lightbluereen'>\n",
        "$$Erreur Moyenne = \\frac{FP}{VN} = \\frac{27}{4000}$$\n",
        "$$Erreur Moyenne \\approx 0.007$$</font>\n",
        "\n",
        "<font color='red'>Pour mesurer la qualité de l’estimation d’un modèle : la précision est un indicateur plus pertinent que le rappel.</font>\n",
        "\n",
        "<font color='lightbluereen'>Vrai uniquement si on donne plus d'importance aux faux positifs ($\\beta < 1$).</font>\n",
        "\n",
        "<font color='red'>Pour mesurer la qualité de l’estimation d’un modèle : le rappel est un indicateur plus pertinent que la précision.</font>\n",
        "\n",
        "<font color='lightbluereen'>Vrai uniquement si on donne plus d'importance aux faux négatifs ($\\beta > 1$).</font>\n",
        "\n",
        "<font color='red'>Pour mesurer la qualité de l’estimation d’un modèle : l’ erreur de classification moyenne est un indicateur plus pertinent que la précision ou le rappel.</font>\n",
        "\n",
        "<font color='lightbluereen'>Faux, car elle est liée au taux de classification correct.</font>"
      ],
      "metadata": {
        "id": "tVIe6Hwt44k3"
      }
    },
    {
      "cell_type": "code",
      "source": [
        "print(classification_report(y_train_0,y_train_pred))"
      ],
      "metadata": {
        "colab": {
          "base_uri": "https://localhost:8080/"
        },
        "id": "-c0XfV1t-GTc",
        "outputId": "244f99bc-f776-45ae-c9e4-007cbe0fcbf2"
      },
      "execution_count": 83,
      "outputs": [
        {
          "output_type": "stream",
          "name": "stdout",
          "text": [
            "              precision    recall  f1-score   support\n",
            "\n",
            "       False       0.99      0.99      0.99      3621\n",
            "        True       0.92      0.93      0.93       379\n",
            "\n",
            "    accuracy                           0.99      4000\n",
            "   macro avg       0.96      0.96      0.96      4000\n",
            "weighted avg       0.99      0.99      0.99      4000\n",
            "\n"
          ]
        }
      ]
    },
    {
      "cell_type": "markdown",
      "source": [
        "# **5 Comparaison K plus proche voisin et régression logistique**"
      ],
      "metadata": {
        "id": "khiVH0rqH08M"
      }
    },
    {
      "cell_type": "markdown",
      "source": [
        "## 21"
      ],
      "metadata": {
        "id": "5uY6zL_5H6G_"
      }
    },
    {
      "cell_type": "markdown",
      "source": [
        "<font color='red'>Les K-plus proches voisins désignent une méthode paramétrique.</font>\n",
        "\n",
        "<font color='lightbluereen'>Faux, car la KNN calcule une probabilité sur base d'une distance, pondérée par une distribution gaussienne.</font>\n",
        "\n",
        "<font color='red'>Les K-plus proches voisins désignent une méthode d’apprentissage non supervisé</font>\n",
        "\n",
        "<font color='lightbluereen'>Faux, car la KNN prédit des clusters pré-existants ($y$).</font>\n",
        "\n",
        "<font color='red'>Dans le cadre des K-plus proches voisins, le nombre K de voisins est choisi automatiquement via l’algorithme de descente de gradient.</font>\n",
        "\n",
        "<font color='lightbluereen'>Faux, par défault on doit spécifier $K$.</font>"
      ],
      "metadata": {
        "id": "ZkNLWrOYH7qz"
      }
    },
    {
      "cell_type": "markdown",
      "source": [
        "## 22"
      ],
      "metadata": {
        "id": "NY2r02Q_J_7-"
      }
    },
    {
      "cell_type": "code",
      "source": [
        "from sklearn.linear_model import SGDClassifier\n",
        "sgd_clf = SGDClassifier(loss='log',random_state=42)\n",
        "sgd_clf.fit(X_train, y_train_0)\n",
        "sgd_clf.predict([chiffre])\n",
        "y_pred_log = sgd_clf.predict(X_test)\n",
        "print(classification_report(y_test_0,y_pred_log))"
      ],
      "metadata": {
        "colab": {
          "base_uri": "https://localhost:8080/"
        },
        "id": "1YlyvjybKBwG",
        "outputId": "150a6a9c-f245-4fbd-9d39-58ff5dd8066d"
      },
      "execution_count": 92,
      "outputs": [
        {
          "output_type": "stream",
          "name": "stdout",
          "text": [
            "              precision    recall  f1-score   support\n",
            "\n",
            "       False       1.00      0.98      0.99       900\n",
            "        True       0.84      0.98      0.91       100\n",
            "\n",
            "    accuracy                           0.98      1000\n",
            "   macro avg       0.92      0.98      0.95      1000\n",
            "weighted avg       0.98      0.98      0.98      1000\n",
            "\n"
          ]
        },
        {
          "output_type": "stream",
          "name": "stderr",
          "text": [
            "/usr/local/lib/python3.7/dist-packages/sklearn/base.py:451: UserWarning: X does not have valid feature names, but SGDClassifier was fitted with feature names\n",
            "  \"X does not have valid feature names, but\"\n"
          ]
        }
      ]
    },
    {
      "cell_type": "code",
      "source": [
        "from sklearn.neighbors import KNeighborsClassifier\n",
        "neigh = KNeighborsClassifier(n_neighbors=3)\n",
        "neigh.fit(X_train, y_train_0)\n",
        "y_pred_neigh = neigh.predict(X_test)\n",
        "print(classification_report(y_test_0,y_pred_neigh))"
      ],
      "metadata": {
        "colab": {
          "base_uri": "https://localhost:8080/"
        },
        "id": "bu2HAyaGKuyO",
        "outputId": "8007453c-6b80-4a65-ca6e-20b5f9355bec"
      },
      "execution_count": 93,
      "outputs": [
        {
          "output_type": "stream",
          "name": "stdout",
          "text": [
            "              precision    recall  f1-score   support\n",
            "\n",
            "       False       1.00      1.00      1.00       900\n",
            "        True       0.98      0.99      0.99       100\n",
            "\n",
            "    accuracy                           1.00      1000\n",
            "   macro avg       0.99      0.99      0.99      1000\n",
            "weighted avg       1.00      1.00      1.00      1000\n",
            "\n"
          ]
        }
      ]
    },
    {
      "cell_type": "markdown",
      "source": [
        "## <font color='red'>23 Pour obtenir le meilleur taux de classification, quel modèle choisiriez-vous ? Une régression logistique ou les K-plus proches voisins ? Pourquoi ? </font>"
      ],
      "metadata": {
        "id": "LR2GT-XxLFb5"
      }
    },
    {
      "cell_type": "markdown",
      "source": [
        "<font color='lightbluereen'>KNN, car le précision et le recall y est meilleur (et le F1).</font>"
      ],
      "metadata": {
        "id": "5rywK_x1LS25"
      }
    },
    {
      "cell_type": "markdown",
      "source": [
        "## 24"
      ],
      "metadata": {
        "id": "zuf3qP8sL6Ae"
      }
    },
    {
      "cell_type": "code",
      "source": [
        "error_rate = []\n",
        "for i in range(1,40):\n",
        "     neigh = KNeighborsClassifier(n_neighbors=i)\n",
        "     neigh.fit(X_train,y_train_0)\n",
        "     pred_i = neigh.predict(X_test)\n",
        "     error_rate.append(np.mean(pred_i != y_test_0))\n",
        "plt.figure(figsize=(10,6))\n",
        "plt.plot(range(1,40),error_rate,color='blue', linestyle='dashed',marker='o',markerfacecolor='red', markersize=10)\n",
        "plt.title('Taux d erreur de classification vs. Nombre de voisins K')\n",
        "plt.xlabel('K')\n",
        "plt.ylabel('Taux d erreur de classification')\n",
        "req_k_value = error_rate.index(min(error_rate))+1\n",
        "print(\"Minimum error:-\",min(error_rate),\"at K =\",req_k_value)"
      ],
      "metadata": {
        "colab": {
          "base_uri": "https://localhost:8080/",
          "height": 422
        },
        "id": "cmWvnfi-L7hk",
        "outputId": "92d92201-78e2-48ca-add8-8b1ac921621e"
      },
      "execution_count": 94,
      "outputs": [
        {
          "output_type": "stream",
          "name": "stdout",
          "text": [
            "Minimum error:- 0.002 at K = 8\n"
          ]
        },
        {
          "output_type": "display_data",
          "data": {
            "text/plain": [
              "<Figure size 720x432 with 1 Axes>"
            ],
            "image/png": "[encoded data removed]"
          },
          "metadata": {
            "needs_background": "light"
          }
        }
      ]
    },
    {
      "cell_type": "markdown",
      "source": [
        "\n",
        "## <font color='red'>25 Quel K choisiriez-vous ? Pourquoi ?</font>"
      ],
      "metadata": {
        "id": "cp7HU5bnL_uC"
      }
    },
    {
      "cell_type": "markdown",
      "source": [
        "<font color='lightbluereen'>8 pour 2 raisons :</font>\n",
        "\n",
        "<font color='lightbluereen'>1) Graphiquement (le taux d'erreur est le plus bas pour 8K)</font>\n",
        "\n",
        "<font color='lightbluereen'>2) Le bout de code précédent donne tout simplement la réponse ...</font>\n",
        "\n",
        "\n",
        "```\n",
        "print(\"Minimum error:-\",min(error_rate),\"at K =\",req_k_value)\n",
        "> Minimum error:- 0.002 at K = 8\n",
        "```"
      ],
      "metadata": {
        "id": "F9VMBdkgMc9l"
      }
    }
  ]
}