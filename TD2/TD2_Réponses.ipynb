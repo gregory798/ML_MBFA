{
  "nbformat": 4,
  "nbformat_minor": 0,
  "metadata": {
    "colab": {
      "provenance": [],
      "collapsed_sections": []
    },
    "kernelspec": {
      "name": "python3",
      "display_name": "Python 3"
    },
    "language_info": {
      "name": "python"
    }
  },
  "cells": [
    {
      "cell_type": "markdown",
      "source": [
        "<div align=\"center\">\n",
        "\n",
        " <img src=\"https://upload.wikimedia.org/wikipedia/fr/thumb/8/80/Universit%C3%A9_Panth%C3%A9on-Assas_%28depuis_2016%29.svg/1280px-Universit%C3%A9_Panth%C3%A9on-Assas_%28depuis_2016%29.svg.png\" width=\"50%\" height=\"50%\"> \n",
        "  <img src=\"https://cdn.pixabay.com/photo/2017/09/08/19/05/a-2729781_1280.png\" width=\"50%\" height=\"50%\"> \n",
        "\n",
        "\n",
        "<h1>TD 2 de Machine Learning</h1>\n",
        "(le machin qui learn)\n",
        "\n",
        "\n",
        " </div>"
      ],
      "metadata": {
        "id": "EcE9wB7FgNOv"
      }
    },
    {
      "cell_type": "markdown",
      "source": [
        "# **1 Importation, description et visualisation des donnés**"
      ],
      "metadata": {
        "id": "wNTZm05DgRWd"
      }
    },
    {
      "cell_type": "markdown",
      "source": [
        "## 1"
      ],
      "metadata": {
        "id": "9Dk77mxqmhGu"
      }
    },
    {
      "cell_type": "code",
      "source": [
        "from sklearn.datasets import load_iris\n",
        "iris = load_iris()\n",
        "X = iris.data[:, 2:] # petal length and width\n",
        "y = iris.target"
      ],
      "metadata": {
        "id": "VKk8nrjBmnOB"
      },
      "execution_count": null,
      "outputs": []
    },
    {
      "cell_type": "markdown",
      "source": [
        "## 2"
      ],
      "metadata": {
        "id": "p7aZRdFfnFx5"
      }
    },
    {
      "cell_type": "code",
      "source": [
        "iris"
      ],
      "metadata": {
        "colab": {
          "base_uri": "https://localhost:8080/"
        },
        "id": "d2r-sSOkoFcG",
        "outputId": "d7745cb2-c8bf-4a38-9c81-5cf4d1cc38bf"
      },
      "execution_count": null,
      "outputs": [
        {
          "output_type": "execute_result",
          "data": {
            "text/plain": [
              "{'data': array([[5.1, 3.5, 1.4, 0.2],\n",
              "        [4.9, 3. , 1.4, 0.2],\n",
              "        [4.7, 3.2, 1.3, 0.2],\n",
              "        [4.6, 3.1, 1.5, 0.2],\n",
              "        [5. , 3.6, 1.4, 0.2],\n",
              "        [5.4, 3.9, 1.7, 0.4],\n",
              "        [4.6, 3.4, 1.4, 0.3],\n",
              "        [5. , 3.4, 1.5, 0.2],\n",
              "        [4.4, 2.9, 1.4, 0.2],\n",
              "        [4.9, 3.1, 1.5, 0.1],\n",
              "        [5.4, 3.7, 1.5, 0.2],\n",
              "        [4.8, 3.4, 1.6, 0.2],\n",
              "        [4.8, 3. , 1.4, 0.1],\n",
              "        [4.3, 3. , 1.1, 0.1],\n",
              "        [5.8, 4. , 1.2, 0.2],\n",
              "        [5.7, 4.4, 1.5, 0.4],\n",
              "        [5.4, 3.9, 1.3, 0.4],\n",
              "        [5.1, 3.5, 1.4, 0.3],\n",
              "        [5.7, 3.8, 1.7, 0.3],\n",
              "        [5.1, 3.8, 1.5, 0.3],\n",
              "        [5.4, 3.4, 1.7, 0.2],\n",
              "        [5.1, 3.7, 1.5, 0.4],\n",
              "        [4.6, 3.6, 1. , 0.2],\n",
              "        [5.1, 3.3, 1.7, 0.5],\n",
              "        [4.8, 3.4, 1.9, 0.2],\n",
              "        [5. , 3. , 1.6, 0.2],\n",
              "        [5. , 3.4, 1.6, 0.4],\n",
              "        [5.2, 3.5, 1.5, 0.2],\n",
              "        [5.2, 3.4, 1.4, 0.2],\n",
              "        [4.7, 3.2, 1.6, 0.2],\n",
              "        [4.8, 3.1, 1.6, 0.2],\n",
              "        [5.4, 3.4, 1.5, 0.4],\n",
              "        [5.2, 4.1, 1.5, 0.1],\n",
              "        [5.5, 4.2, 1.4, 0.2],\n",
              "        [4.9, 3.1, 1.5, 0.2],\n",
              "        [5. , 3.2, 1.2, 0.2],\n",
              "        [5.5, 3.5, 1.3, 0.2],\n",
              "        [4.9, 3.6, 1.4, 0.1],\n",
              "        [4.4, 3. , 1.3, 0.2],\n",
              "        [5.1, 3.4, 1.5, 0.2],\n",
              "        [5. , 3.5, 1.3, 0.3],\n",
              "        [4.5, 2.3, 1.3, 0.3],\n",
              "        [4.4, 3.2, 1.3, 0.2],\n",
              "        [5. , 3.5, 1.6, 0.6],\n",
              "        [5.1, 3.8, 1.9, 0.4],\n",
              "        [4.8, 3. , 1.4, 0.3],\n",
              "        [5.1, 3.8, 1.6, 0.2],\n",
              "        [4.6, 3.2, 1.4, 0.2],\n",
              "        [5.3, 3.7, 1.5, 0.2],\n",
              "        [5. , 3.3, 1.4, 0.2],\n",
              "        [7. , 3.2, 4.7, 1.4],\n",
              "        [6.4, 3.2, 4.5, 1.5],\n",
              "        [6.9, 3.1, 4.9, 1.5],\n",
              "        [5.5, 2.3, 4. , 1.3],\n",
              "        [6.5, 2.8, 4.6, 1.5],\n",
              "        [5.7, 2.8, 4.5, 1.3],\n",
              "        [6.3, 3.3, 4.7, 1.6],\n",
              "        [4.9, 2.4, 3.3, 1. ],\n",
              "        [6.6, 2.9, 4.6, 1.3],\n",
              "        [5.2, 2.7, 3.9, 1.4],\n",
              "        [5. , 2. , 3.5, 1. ],\n",
              "        [5.9, 3. , 4.2, 1.5],\n",
              "        [6. , 2.2, 4. , 1. ],\n",
              "        [6.1, 2.9, 4.7, 1.4],\n",
              "        [5.6, 2.9, 3.6, 1.3],\n",
              "        [6.7, 3.1, 4.4, 1.4],\n",
              "        [5.6, 3. , 4.5, 1.5],\n",
              "        [5.8, 2.7, 4.1, 1. ],\n",
              "        [6.2, 2.2, 4.5, 1.5],\n",
              "        [5.6, 2.5, 3.9, 1.1],\n",
              "        [5.9, 3.2, 4.8, 1.8],\n",
              "        [6.1, 2.8, 4. , 1.3],\n",
              "        [6.3, 2.5, 4.9, 1.5],\n",
              "        [6.1, 2.8, 4.7, 1.2],\n",
              "        [6.4, 2.9, 4.3, 1.3],\n",
              "        [6.6, 3. , 4.4, 1.4],\n",
              "        [6.8, 2.8, 4.8, 1.4],\n",
              "        [6.7, 3. , 5. , 1.7],\n",
              "        [6. , 2.9, 4.5, 1.5],\n",
              "        [5.7, 2.6, 3.5, 1. ],\n",
              "        [5.5, 2.4, 3.8, 1.1],\n",
              "        [5.5, 2.4, 3.7, 1. ],\n",
              "        [5.8, 2.7, 3.9, 1.2],\n",
              "        [6. , 2.7, 5.1, 1.6],\n",
              "        [5.4, 3. , 4.5, 1.5],\n",
              "        [6. , 3.4, 4.5, 1.6],\n",
              "        [6.7, 3.1, 4.7, 1.5],\n",
              "        [6.3, 2.3, 4.4, 1.3],\n",
              "        [5.6, 3. , 4.1, 1.3],\n",
              "        [5.5, 2.5, 4. , 1.3],\n",
              "        [5.5, 2.6, 4.4, 1.2],\n",
              "        [6.1, 3. , 4.6, 1.4],\n",
              "        [5.8, 2.6, 4. , 1.2],\n",
              "        [5. , 2.3, 3.3, 1. ],\n",
              "        [5.6, 2.7, 4.2, 1.3],\n",
              "        [5.7, 3. , 4.2, 1.2],\n",
              "        [5.7, 2.9, 4.2, 1.3],\n",
              "        [6.2, 2.9, 4.3, 1.3],\n",
              "        [5.1, 2.5, 3. , 1.1],\n",
              "        [5.7, 2.8, 4.1, 1.3],\n",
              "        [6.3, 3.3, 6. , 2.5],\n",
              "        [5.8, 2.7, 5.1, 1.9],\n",
              "        [7.1, 3. , 5.9, 2.1],\n",
              "        [6.3, 2.9, 5.6, 1.8],\n",
              "        [6.5, 3. , 5.8, 2.2],\n",
              "        [7.6, 3. , 6.6, 2.1],\n",
              "        [4.9, 2.5, 4.5, 1.7],\n",
              "        [7.3, 2.9, 6.3, 1.8],\n",
              "        [6.7, 2.5, 5.8, 1.8],\n",
              "        [7.2, 3.6, 6.1, 2.5],\n",
              "        [6.5, 3.2, 5.1, 2. ],\n",
              "        [6.4, 2.7, 5.3, 1.9],\n",
              "        [6.8, 3. , 5.5, 2.1],\n",
              "        [5.7, 2.5, 5. , 2. ],\n",
              "        [5.8, 2.8, 5.1, 2.4],\n",
              "        [6.4, 3.2, 5.3, 2.3],\n",
              "        [6.5, 3. , 5.5, 1.8],\n",
              "        [7.7, 3.8, 6.7, 2.2],\n",
              "        [7.7, 2.6, 6.9, 2.3],\n",
              "        [6. , 2.2, 5. , 1.5],\n",
              "        [6.9, 3.2, 5.7, 2.3],\n",
              "        [5.6, 2.8, 4.9, 2. ],\n",
              "        [7.7, 2.8, 6.7, 2. ],\n",
              "        [6.3, 2.7, 4.9, 1.8],\n",
              "        [6.7, 3.3, 5.7, 2.1],\n",
              "        [7.2, 3.2, 6. , 1.8],\n",
              "        [6.2, 2.8, 4.8, 1.8],\n",
              "        [6.1, 3. , 4.9, 1.8],\n",
              "        [6.4, 2.8, 5.6, 2.1],\n",
              "        [7.2, 3. , 5.8, 1.6],\n",
              "        [7.4, 2.8, 6.1, 1.9],\n",
              "        [7.9, 3.8, 6.4, 2. ],\n",
              "        [6.4, 2.8, 5.6, 2.2],\n",
              "        [6.3, 2.8, 5.1, 1.5],\n",
              "        [6.1, 2.6, 5.6, 1.4],\n",
              "        [7.7, 3. , 6.1, 2.3],\n",
              "        [6.3, 3.4, 5.6, 2.4],\n",
              "        [6.4, 3.1, 5.5, 1.8],\n",
              "        [6. , 3. , 4.8, 1.8],\n",
              "        [6.9, 3.1, 5.4, 2.1],\n",
              "        [6.7, 3.1, 5.6, 2.4],\n",
              "        [6.9, 3.1, 5.1, 2.3],\n",
              "        [5.8, 2.7, 5.1, 1.9],\n",
              "        [6.8, 3.2, 5.9, 2.3],\n",
              "        [6.7, 3.3, 5.7, 2.5],\n",
              "        [6.7, 3. , 5.2, 2.3],\n",
              "        [6.3, 2.5, 5. , 1.9],\n",
              "        [6.5, 3. , 5.2, 2. ],\n",
              "        [6.2, 3.4, 5.4, 2.3],\n",
              "        [5.9, 3. , 5.1, 1.8]]),\n",
              " 'target': array([0, 0, 0, 0, 0, 0, 0, 0, 0, 0, 0, 0, 0, 0, 0, 0, 0, 0, 0, 0, 0, 0,\n",
              "        0, 0, 0, 0, 0, 0, 0, 0, 0, 0, 0, 0, 0, 0, 0, 0, 0, 0, 0, 0, 0, 0,\n",
              "        0, 0, 0, 0, 0, 0, 1, 1, 1, 1, 1, 1, 1, 1, 1, 1, 1, 1, 1, 1, 1, 1,\n",
              "        1, 1, 1, 1, 1, 1, 1, 1, 1, 1, 1, 1, 1, 1, 1, 1, 1, 1, 1, 1, 1, 1,\n",
              "        1, 1, 1, 1, 1, 1, 1, 1, 1, 1, 1, 1, 2, 2, 2, 2, 2, 2, 2, 2, 2, 2,\n",
              "        2, 2, 2, 2, 2, 2, 2, 2, 2, 2, 2, 2, 2, 2, 2, 2, 2, 2, 2, 2, 2, 2,\n",
              "        2, 2, 2, 2, 2, 2, 2, 2, 2, 2, 2, 2, 2, 2, 2, 2, 2, 2]),\n",
              " 'frame': None,\n",
              " 'target_names': array(['setosa', 'versicolor', 'virginica'], dtype='<U10'),\n",
              " 'DESCR': '.. _iris_dataset:\\n\\nIris plants dataset\\n--------------------\\n\\n**Data Set Characteristics:**\\n\\n    :Number of Instances: 150 (50 in each of three classes)\\n    :Number of Attributes: 4 numeric, predictive attributes and the class\\n    :Attribute Information:\\n        - sepal length in cm\\n        - sepal width in cm\\n        - petal length in cm\\n        - petal width in cm\\n        - class:\\n                - Iris-Setosa\\n                - Iris-Versicolour\\n                - Iris-Virginica\\n                \\n    :Summary Statistics:\\n\\n    ============== ==== ==== ======= ===== ====================\\n                    Min  Max   Mean    SD   Class Correlation\\n    ============== ==== ==== ======= ===== ====================\\n    sepal length:   4.3  7.9   5.84   0.83    0.7826\\n    sepal width:    2.0  4.4   3.05   0.43   -0.4194\\n    petal length:   1.0  6.9   3.76   1.76    0.9490  (high!)\\n    petal width:    0.1  2.5   1.20   0.76    0.9565  (high!)\\n    ============== ==== ==== ======= ===== ====================\\n\\n    :Missing Attribute Values: None\\n    :Class Distribution: 33.3% for each of 3 classes.\\n    :Creator: R.A. Fisher\\n    :Donor: Michael Marshall (MARSHALL%PLU@io.arc.nasa.gov)\\n    :Date: July, 1988\\n\\nThe famous Iris database, first used by Sir R.A. Fisher. The dataset is taken\\nfrom Fisher\\'s paper. Note that it\\'s the same as in R, but not as in the UCI\\nMachine Learning Repository, which has two wrong data points.\\n\\nThis is perhaps the best known database to be found in the\\npattern recognition literature.  Fisher\\'s paper is a classic in the field and\\nis referenced frequently to this day.  (See Duda & Hart, for example.)  The\\ndata set contains 3 classes of 50 instances each, where each class refers to a\\ntype of iris plant.  One class is linearly separable from the other 2; the\\nlatter are NOT linearly separable from each other.\\n\\n.. topic:: References\\n\\n   - Fisher, R.A. \"The use of multiple measurements in taxonomic problems\"\\n     Annual Eugenics, 7, Part II, 179-188 (1936); also in \"Contributions to\\n     Mathematical Statistics\" (John Wiley, NY, 1950).\\n   - Duda, R.O., & Hart, P.E. (1973) Pattern Classification and Scene Analysis.\\n     (Q327.D83) John Wiley & Sons.  ISBN 0-471-22361-1.  See page 218.\\n   - Dasarathy, B.V. (1980) \"Nosing Around the Neighborhood: A New System\\n     Structure and Classification Rule for Recognition in Partially Exposed\\n     Environments\".  IEEE Transactions on Pattern Analysis and Machine\\n     Intelligence, Vol. PAMI-2, No. 1, 67-71.\\n   - Gates, G.W. (1972) \"The Reduced Nearest Neighbor Rule\".  IEEE Transactions\\n     on Information Theory, May 1972, 431-433.\\n   - See also: 1988 MLC Proceedings, 54-64.  Cheeseman et al\"s AUTOCLASS II\\n     conceptual clustering system finds 3 classes in the data.\\n   - Many, many more ...',\n",
              " 'feature_names': ['sepal length (cm)',\n",
              "  'sepal width (cm)',\n",
              "  'petal length (cm)',\n",
              "  'petal width (cm)'],\n",
              " 'filename': 'iris.csv',\n",
              " 'data_module': 'sklearn.datasets.data'}"
            ]
          },
          "metadata": {},
          "execution_count": 2
        }
      ]
    },
    {
      "cell_type": "code",
      "source": [
        "X"
      ],
      "metadata": {
        "colab": {
          "base_uri": "https://localhost:8080/"
        },
        "id": "iC7K58ulnUqv",
        "outputId": "9bd62271-efa1-4289-dfb7-bf128de6d0a7"
      },
      "execution_count": null,
      "outputs": [
        {
          "output_type": "execute_result",
          "data": {
            "text/plain": [
              "array([[1.4, 0.2],\n",
              "       [1.4, 0.2],\n",
              "       [1.3, 0.2],\n",
              "       [1.5, 0.2],\n",
              "       [1.4, 0.2],\n",
              "       [1.7, 0.4],\n",
              "       [1.4, 0.3],\n",
              "       [1.5, 0.2],\n",
              "       [1.4, 0.2],\n",
              "       [1.5, 0.1],\n",
              "       [1.5, 0.2],\n",
              "       [1.6, 0.2],\n",
              "       [1.4, 0.1],\n",
              "       [1.1, 0.1],\n",
              "       [1.2, 0.2],\n",
              "       [1.5, 0.4],\n",
              "       [1.3, 0.4],\n",
              "       [1.4, 0.3],\n",
              "       [1.7, 0.3],\n",
              "       [1.5, 0.3],\n",
              "       [1.7, 0.2],\n",
              "       [1.5, 0.4],\n",
              "       [1. , 0.2],\n",
              "       [1.7, 0.5],\n",
              "       [1.9, 0.2],\n",
              "       [1.6, 0.2],\n",
              "       [1.6, 0.4],\n",
              "       [1.5, 0.2],\n",
              "       [1.4, 0.2],\n",
              "       [1.6, 0.2],\n",
              "       [1.6, 0.2],\n",
              "       [1.5, 0.4],\n",
              "       [1.5, 0.1],\n",
              "       [1.4, 0.2],\n",
              "       [1.5, 0.2],\n",
              "       [1.2, 0.2],\n",
              "       [1.3, 0.2],\n",
              "       [1.4, 0.1],\n",
              "       [1.3, 0.2],\n",
              "       [1.5, 0.2],\n",
              "       [1.3, 0.3],\n",
              "       [1.3, 0.3],\n",
              "       [1.3, 0.2],\n",
              "       [1.6, 0.6],\n",
              "       [1.9, 0.4],\n",
              "       [1.4, 0.3],\n",
              "       [1.6, 0.2],\n",
              "       [1.4, 0.2],\n",
              "       [1.5, 0.2],\n",
              "       [1.4, 0.2],\n",
              "       [4.7, 1.4],\n",
              "       [4.5, 1.5],\n",
              "       [4.9, 1.5],\n",
              "       [4. , 1.3],\n",
              "       [4.6, 1.5],\n",
              "       [4.5, 1.3],\n",
              "       [4.7, 1.6],\n",
              "       [3.3, 1. ],\n",
              "       [4.6, 1.3],\n",
              "       [3.9, 1.4],\n",
              "       [3.5, 1. ],\n",
              "       [4.2, 1.5],\n",
              "       [4. , 1. ],\n",
              "       [4.7, 1.4],\n",
              "       [3.6, 1.3],\n",
              "       [4.4, 1.4],\n",
              "       [4.5, 1.5],\n",
              "       [4.1, 1. ],\n",
              "       [4.5, 1.5],\n",
              "       [3.9, 1.1],\n",
              "       [4.8, 1.8],\n",
              "       [4. , 1.3],\n",
              "       [4.9, 1.5],\n",
              "       [4.7, 1.2],\n",
              "       [4.3, 1.3],\n",
              "       [4.4, 1.4],\n",
              "       [4.8, 1.4],\n",
              "       [5. , 1.7],\n",
              "       [4.5, 1.5],\n",
              "       [3.5, 1. ],\n",
              "       [3.8, 1.1],\n",
              "       [3.7, 1. ],\n",
              "       [3.9, 1.2],\n",
              "       [5.1, 1.6],\n",
              "       [4.5, 1.5],\n",
              "       [4.5, 1.6],\n",
              "       [4.7, 1.5],\n",
              "       [4.4, 1.3],\n",
              "       [4.1, 1.3],\n",
              "       [4. , 1.3],\n",
              "       [4.4, 1.2],\n",
              "       [4.6, 1.4],\n",
              "       [4. , 1.2],\n",
              "       [3.3, 1. ],\n",
              "       [4.2, 1.3],\n",
              "       [4.2, 1.2],\n",
              "       [4.2, 1.3],\n",
              "       [4.3, 1.3],\n",
              "       [3. , 1.1],\n",
              "       [4.1, 1.3],\n",
              "       [6. , 2.5],\n",
              "       [5.1, 1.9],\n",
              "       [5.9, 2.1],\n",
              "       [5.6, 1.8],\n",
              "       [5.8, 2.2],\n",
              "       [6.6, 2.1],\n",
              "       [4.5, 1.7],\n",
              "       [6.3, 1.8],\n",
              "       [5.8, 1.8],\n",
              "       [6.1, 2.5],\n",
              "       [5.1, 2. ],\n",
              "       [5.3, 1.9],\n",
              "       [5.5, 2.1],\n",
              "       [5. , 2. ],\n",
              "       [5.1, 2.4],\n",
              "       [5.3, 2.3],\n",
              "       [5.5, 1.8],\n",
              "       [6.7, 2.2],\n",
              "       [6.9, 2.3],\n",
              "       [5. , 1.5],\n",
              "       [5.7, 2.3],\n",
              "       [4.9, 2. ],\n",
              "       [6.7, 2. ],\n",
              "       [4.9, 1.8],\n",
              "       [5.7, 2.1],\n",
              "       [6. , 1.8],\n",
              "       [4.8, 1.8],\n",
              "       [4.9, 1.8],\n",
              "       [5.6, 2.1],\n",
              "       [5.8, 1.6],\n",
              "       [6.1, 1.9],\n",
              "       [6.4, 2. ],\n",
              "       [5.6, 2.2],\n",
              "       [5.1, 1.5],\n",
              "       [5.6, 1.4],\n",
              "       [6.1, 2.3],\n",
              "       [5.6, 2.4],\n",
              "       [5.5, 1.8],\n",
              "       [4.8, 1.8],\n",
              "       [5.4, 2.1],\n",
              "       [5.6, 2.4],\n",
              "       [5.1, 2.3],\n",
              "       [5.1, 1.9],\n",
              "       [5.9, 2.3],\n",
              "       [5.7, 2.5],\n",
              "       [5.2, 2.3],\n",
              "       [5. , 1.9],\n",
              "       [5.2, 2. ],\n",
              "       [5.4, 2.3],\n",
              "       [5.1, 1.8]])"
            ]
          },
          "metadata": {},
          "execution_count": 3
        }
      ]
    },
    {
      "cell_type": "code",
      "source": [
        "y"
      ],
      "metadata": {
        "colab": {
          "base_uri": "https://localhost:8080/"
        },
        "id": "bdAF338BnZYF",
        "outputId": "57a64295-6dee-48f9-c7b0-3210af520a55"
      },
      "execution_count": null,
      "outputs": [
        {
          "output_type": "execute_result",
          "data": {
            "text/plain": [
              "array([0, 0, 0, 0, 0, 0, 0, 0, 0, 0, 0, 0, 0, 0, 0, 0, 0, 0, 0, 0, 0, 0,\n",
              "       0, 0, 0, 0, 0, 0, 0, 0, 0, 0, 0, 0, 0, 0, 0, 0, 0, 0, 0, 0, 0, 0,\n",
              "       0, 0, 0, 0, 0, 0, 1, 1, 1, 1, 1, 1, 1, 1, 1, 1, 1, 1, 1, 1, 1, 1,\n",
              "       1, 1, 1, 1, 1, 1, 1, 1, 1, 1, 1, 1, 1, 1, 1, 1, 1, 1, 1, 1, 1, 1,\n",
              "       1, 1, 1, 1, 1, 1, 1, 1, 1, 1, 1, 1, 2, 2, 2, 2, 2, 2, 2, 2, 2, 2,\n",
              "       2, 2, 2, 2, 2, 2, 2, 2, 2, 2, 2, 2, 2, 2, 2, 2, 2, 2, 2, 2, 2, 2,\n",
              "       2, 2, 2, 2, 2, 2, 2, 2, 2, 2, 2, 2, 2, 2, 2, 2, 2, 2])"
            ]
          },
          "metadata": {},
          "execution_count": 4
        }
      ]
    },
    {
      "cell_type": "code",
      "source": [
        "print(type(X))\n",
        "print(X[:10])\n",
        "print(X.shape)"
      ],
      "metadata": {
        "colab": {
          "base_uri": "https://localhost:8080/"
        },
        "id": "oIOD-SE5nK6g",
        "outputId": "222f43ee-9144-4ab8-ab58-a5e44fe2e7bd"
      },
      "execution_count": null,
      "outputs": [
        {
          "output_type": "stream",
          "name": "stdout",
          "text": [
            "<class 'numpy.ndarray'>\n",
            "[[1.4 0.2]\n",
            " [1.4 0.2]\n",
            " [1.3 0.2]\n",
            " [1.5 0.2]\n",
            " [1.4 0.2]\n",
            " [1.7 0.4]\n",
            " [1.4 0.3]\n",
            " [1.5 0.2]\n",
            " [1.4 0.2]\n",
            " [1.5 0.1]]\n",
            "(150, 2)\n"
          ]
        }
      ]
    },
    {
      "cell_type": "markdown",
      "source": [
        "<font color='red'>Quelle est la structure de la base X? Combien possède-t-elle de lignes ? Combien de colonnes ? Que représentent les colonnes ?</font>\n",
        "\n",
        "<font color='lightbluereen'>X est un ndarray (une liste de listes à 2 éléments). Elle a 150 lignes (observations) pour 2 colonnes. Les colonnes sont respectivement : la longueur des pétales et la largeur des pétales.</font>"
      ],
      "metadata": {
        "id": "M_pp6jN7nhri"
      }
    },
    {
      "cell_type": "markdown",
      "source": [
        "## 3"
      ],
      "metadata": {
        "id": "JNQKRrlopE2c"
      }
    },
    {
      "cell_type": "code",
      "source": [
        "import matplotlib.pyplot as plt\n",
        "plt.scatter(X[:, 0], X[:, 1], c=y, cmap=plt.cm.Set1, edgecolor=\"k\")\n",
        "plt.xlabel(\"Petal length\")\n",
        "plt.ylabel(\"Petal width\")"
      ],
      "metadata": {
        "colab": {
          "base_uri": "https://localhost:8080/",
          "height": 297
        },
        "id": "qqtRvl7QpF-x",
        "outputId": "b51c2e34-ff0c-4f76-f1a3-ce72ddaac53c"
      },
      "execution_count": null,
      "outputs": [
        {
          "output_type": "execute_result",
          "data": {
            "text/plain": [
              "Text(0, 0.5, 'Petal width')"
            ]
          },
          "metadata": {},
          "execution_count": 6
        },
        {
          "output_type": "display_data",
          "data": {
            "text/plain": [
              "<Figure size 432x288 with 1 Axes>"
            ],
            "image/png": "[encoded data removed]"
          },
          "metadata": {
            "needs_background": "light"
          }
        }
      ]
    },
    {
      "cell_type": "markdown",
      "source": [
        "## 4"
      ],
      "metadata": {
        "id": "s1-Au3brpYH-"
      }
    },
    {
      "cell_type": "markdown",
      "source": [
        "<font color='red'>Que représente Y?</font>\n",
        "\n",
        "<font color='lightbluereen'>Y est la target, la classe, catégorie, cluster que l'on cherche à prédire, based on the $X_i$'s. Y prend comme valeur : 0, 1 et 2, ce qui correpsond à, respectivement : </font>"
      ],
      "metadata": {
        "id": "ccwxUUZKpagw"
      }
    },
    {
      "cell_type": "code",
      "source": [
        "iris.target_names"
      ],
      "metadata": {
        "colab": {
          "base_uri": "https://localhost:8080/"
        },
        "id": "U9YOnfJrp5Vz",
        "outputId": "007c1894-bd64-4b25-f68c-b94fba21d0e3"
      },
      "execution_count": null,
      "outputs": [
        {
          "output_type": "execute_result",
          "data": {
            "text/plain": [
              "array(['setosa', 'versicolor', 'virginica'], dtype='<U10')"
            ]
          },
          "metadata": {},
          "execution_count": 7
        }
      ]
    },
    {
      "cell_type": "markdown",
      "source": [
        "# **2 Arbre de décision**"
      ],
      "metadata": {
        "id": "CuWGZMnqqDzv"
      }
    },
    {
      "cell_type": "markdown",
      "source": [
        "## 5"
      ],
      "metadata": {
        "id": "BCuemS-6qIzO"
      }
    },
    {
      "cell_type": "code",
      "source": [
        "from sklearn.tree import DecisionTreeClassifier\n",
        "tree_clf = DecisionTreeClassifier(max_depth=2)\n",
        "tree_clf.fit(X, y)\n",
        "predictions = tree_clf.predict(X)\n",
        "predictions\n",
        "print(f'% Classification Correct : {tree_clf.score(X, y):.3f}')"
      ],
      "metadata": {
        "colab": {
          "base_uri": "https://localhost:8080/"
        },
        "id": "ZI-NJG_bqLWo",
        "outputId": "c7c7056a-5008-4d90-d9d8-b7999c5d9533"
      },
      "execution_count": null,
      "outputs": [
        {
          "output_type": "stream",
          "name": "stdout",
          "text": [
            "% Classification Correct : 0.960\n"
          ]
        }
      ]
    },
    {
      "cell_type": "markdown",
      "source": [
        "## 6"
      ],
      "metadata": {
        "id": "5AyvdEfZqZbv"
      }
    },
    {
      "cell_type": "markdown",
      "source": [
        "<font color='red'>Visualisez les deux arbres de décision suivants. Quelle est la différence principale entre ces deux arbres ?</font>"
      ],
      "metadata": {
        "id": "YB-45NG2qc7p"
      }
    },
    {
      "cell_type": "code",
      "source": [
        "from sklearn import tree\n",
        "clf = tree.DecisionTreeClassifier(max_depth=2)\n",
        "clf.fit(X, y)\n",
        "plot = tree.plot_tree(clf,feature_names=iris.feature_names[2:], class_names=iris.target_names, proportion = True, rounded=True,filled=True)"
      ],
      "metadata": {
        "colab": {
          "base_uri": "https://localhost:8080/",
          "height": 248
        },
        "id": "UtBZ7xSeqnMY",
        "outputId": "e491527f-55c9-4256-8709-b5b1766e4f35"
      },
      "execution_count": null,
      "outputs": [
        {
          "output_type": "display_data",
          "data": {
            "text/plain": [
              "<Figure size 432x288 with 1 Axes>"
            ],
            "image/png": "[encoded data removed]"
          },
          "metadata": {
            "needs_background": "light"
          }
        }
      ]
    },
    {
      "cell_type": "code",
      "source": [
        "clf = tree.DecisionTreeClassifier(max_depth=3)\n",
        "clf.fit(X, y)\n",
        "plot = tree.plot_tree(clf,feature_names=iris.feature_names[2:], class_names=iris.target_names,proportion = True, rounded=True,filled=True)"
      ],
      "metadata": {
        "colab": {
          "base_uri": "https://localhost:8080/",
          "height": 248
        },
        "id": "pxyl_T9yqvYG",
        "outputId": "1eae556e-419c-475a-efc6-0e657bf4c76b"
      },
      "execution_count": null,
      "outputs": [
        {
          "output_type": "display_data",
          "data": {
            "text/plain": [
              "<Figure size 432x288 with 1 Axes>"
            ],
            "image/png": "[encoded data removed]"
          },
          "metadata": {
            "needs_background": "light"
          }
        }
      ]
    },
    {
      "cell_type": "markdown",
      "source": [
        "<font color='lightbluereen'>La différence est la profondeur (2 VS 3).</font>"
      ],
      "metadata": {
        "id": "Z262G5Hq2oap"
      }
    },
    {
      "cell_type": "markdown",
      "source": [
        "## 7"
      ],
      "metadata": {
        "id": "i5xAZH4e2wEI"
      }
    },
    {
      "cell_type": "markdown",
      "source": [
        "En utilisant un arbre de décision, prédisez le type de fleur ayant des pétales de 5cm de long et de 1,5cm de largeur."
      ],
      "metadata": {
        "id": "6I2HGwBK21hF"
      }
    },
    {
      "cell_type": "code",
      "source": [
        "from sklearn import tree\n",
        "tree_clf = tree.DecisionTreeClassifier(max_depth=2)\n",
        "tree_clf.fit(X, y)\n",
        "print(tree_clf.predict_proba([[5, 1.5]]))\n",
        "print(tree_clf.predict([[5, 1.5]]))"
      ],
      "metadata": {
        "colab": {
          "base_uri": "https://localhost:8080/"
        },
        "id": "4bEC6-Tv3Atf",
        "outputId": "530af731-9680-4048-f901-e2b725a2110b"
      },
      "execution_count": null,
      "outputs": [
        {
          "output_type": "stream",
          "name": "stdout",
          "text": [
            "[[0.         0.90740741 0.09259259]]\n",
            "[1]\n"
          ]
        }
      ]
    },
    {
      "cell_type": "markdown",
      "source": [
        "## 8"
      ],
      "metadata": {
        "id": "gk3NJGrV3qdn"
      }
    },
    {
      "cell_type": "markdown",
      "source": [
        "<font color='red'>Vrai ou faux : les arbres de décision désignent une méthode linéaire et non-paramétrique.</font>\n",
        "\n",
        "<font color='lightbluereen'>Faux, car, bien que non-paramétriques, ils désignent une méthode non-linéaire.</font>\n",
        "\n",
        "<font color='red'>Vrai ou faux : le fonctionnement des arbres de décision revient  à segmenter l'espace de\n",
        "décision.</font>\n",
        "\n",
        "<font color='lightbluereen'>Vrai, car on segmente l'espace en un nombre fini de régions.</font>\n",
        "\n",
        "<font color='red'>Vrai ou faux : pour obtenir les meilleures performances, il vaut toujours mieux utiliser des arbres plus profonds.</font>\n",
        "\n",
        "<font color='lightbluereen'>Faux, car plus l'arbre est profond, plus il y a un risque d'overfitting.</font>\n",
        "\n",
        "<font color='red'>Quel est le problème principal des arbres de décision simples ?</font>\n",
        "\n",
        "<font color='lightbluereen'>Le problème principal est la forte variance : lorsque l'on change les datasets, les résultats diffèrent.</font>\n",
        "\n",
        "<font color='red'>A quoi correspond le *Tree Pruning* ?</font>\n",
        "\n",
        "<font color='lightbluereen'>C'est une méthode qui consiste à réduire la taille d'un arbre de décision en supprimant les sections non-critiques et redondantes, réduisant ainsi l'overfitting potentiel.</font>"
      ],
      "metadata": {
        "id": "-5u-iSBM3r8Q"
      }
    },
    {
      "cell_type": "markdown",
      "source": [
        "# **3 Préparation des données**"
      ],
      "metadata": {
        "id": "MY29DZGZ7XLW"
      }
    },
    {
      "cell_type": "markdown",
      "source": [
        "## 9"
      ],
      "metadata": {
        "id": "MzZs0VIJ7gVu"
      }
    },
    {
      "cell_type": "code",
      "source": [
        "from sklearn.model_selection import train_test_split\n",
        "X_train, X_test, y_train, y_test = train_test_split(X, y, test_size=0.2, random_state=2)"
      ],
      "metadata": {
        "id": "UTqLBkqN7lDj"
      },
      "execution_count": null,
      "outputs": []
    },
    {
      "cell_type": "markdown",
      "source": [
        "<font color='red'>Combien d'observations contient la base de test ? Quelle proportion de la base de données cela représente ?</font>\n",
        "\n"
      ],
      "metadata": {
        "id": "Caw17Fsm8CAs"
      }
    },
    {
      "cell_type": "code",
      "source": [
        "X_test.shape"
      ],
      "metadata": {
        "colab": {
          "base_uri": "https://localhost:8080/"
        },
        "id": "0NzdaQI27sS5",
        "outputId": "65662ab3-c706-4626-eb82-34c8c7807244"
      },
      "execution_count": null,
      "outputs": [
        {
          "output_type": "execute_result",
          "data": {
            "text/plain": [
              "(30, 2)"
            ]
          },
          "metadata": {},
          "execution_count": 15
        }
      ]
    },
    {
      "cell_type": "markdown",
      "source": [
        "<font color='lightbluereen'>Le testset contient 30 observations, ce qui fait 20% d'X (150 à la base).</font>"
      ],
      "metadata": {
        "id": "h6HRORzX8Ntg"
      }
    },
    {
      "cell_type": "markdown",
      "source": [
        "## 10"
      ],
      "metadata": {
        "id": "4BxpJTch8xGy"
      }
    },
    {
      "cell_type": "markdown",
      "source": [
        "<font color='red'>La base d'apprentissage est utilisée pour tester la performance du modèle.</font>\n",
        "\n",
        "<font color='lightbluereen'>Faux, car la base d'apprentissage sert à apprendre, et la base de test à tester.</font>\n",
        "\n",
        "<font color='red'>Il suffit de classer aléatoirement les observations avant la division de la base de données en deux pour obtenir toujours les mêmes performances pour un modèle donné.</font>\n",
        "\n",
        "<font color='lightbluereen'>Faux, et c'est encore plus faux avec les decision trees, modèles avec lesquels la variance est forte.</font>\n",
        "\n",
        "<font color='red'>Il faut toujours mettre 20% des observations dans la base de test et 80% dans la base d'apprentissage.</font>\n",
        "\n",
        "<font color='lightbluereen'>Faux, c'est une convention, mais tout dépend de la taille de votre dataset de base.</font>"
      ],
      "metadata": {
        "id": "v1mSQtSH85ys"
      }
    },
    {
      "cell_type": "markdown",
      "source": [
        "# **4 Comparaison de plusieurs modèles**"
      ],
      "metadata": {
        "id": "qNuss3qE-BkQ"
      }
    },
    {
      "cell_type": "markdown",
      "source": [
        "# **4.1 Entraînement**"
      ],
      "metadata": {
        "id": "_qSTx5pIy4OT"
      }
    },
    {
      "cell_type": "code",
      "source": [
        "from sklearn.ensemble import BaggingClassifier\n",
        "\n",
        "clf = BaggingClassifier(base_estimator=tree.DecisionTreeClassifier(),n_estimators = 10, random_state=10)\n",
        "clf.fit(X_train, y_train)\n",
        "print(f'Test : {clf.score(X_test, y_test):.3f}')\n",
        "print(f'Train : {clf.score(X_train, y_train):.3f}')"
      ],
      "metadata": {
        "colab": {
          "base_uri": "https://localhost:8080/"
        },
        "id": "NnPxV_e1y-YQ",
        "outputId": "48c9adc4-1bce-4b41-a54d-01a710dbadfc"
      },
      "execution_count": null,
      "outputs": [
        {
          "output_type": "stream",
          "name": "stdout",
          "text": [
            "Test : 0.967\n",
            "Train : 0.992\n"
          ]
        }
      ]
    },
    {
      "cell_type": "code",
      "source": [
        "from sklearn.ensemble import RandomForestClassifier\n",
        "\n",
        "RF_Model = RandomForestClassifier()\n",
        "RF_Model = RandomForestClassifier(random_state=10,n_estimators = 10)\n",
        "RF_Model.fit(X_train, y_train)\n",
        "print(f'Test : {RF_Model.score(X_test, y_test):.3f}')\n",
        "print(f'Train : {RF_Model.score(X_train, y_train):.3f}')"
      ],
      "metadata": {
        "colab": {
          "base_uri": "https://localhost:8080/"
        },
        "id": "RdPC0_wMzFAV",
        "outputId": "765323f3-3628-471b-aa51-e1b857d121e1"
      },
      "execution_count": null,
      "outputs": [
        {
          "output_type": "stream",
          "name": "stdout",
          "text": [
            "Test : 0.967\n",
            "Train : 0.992\n"
          ]
        }
      ]
    },
    {
      "cell_type": "code",
      "source": [
        "from sklearn.ensemble import GradientBoostingClassifier\n",
        "\n",
        "clf = GradientBoostingClassifier(n_estimators=10, learning_rate=0.1,\n",
        "     max_depth=1, random_state=0).fit(X_train, y_train)\n",
        "\n",
        "clf.fit(X_train, y_train)\n",
        "print(f'Test : {clf.score(X_test, y_test):.3f}')\n",
        "print(f'Train : {clf.score(X_train, y_train):.3f}')"
      ],
      "metadata": {
        "colab": {
          "base_uri": "https://localhost:8080/"
        },
        "id": "Jt9s6V0tzQFP",
        "outputId": "cf6a3899-71f5-4165-fac5-d8a275932caa"
      },
      "execution_count": null,
      "outputs": [
        {
          "output_type": "stream",
          "name": "stdout",
          "text": [
            "Test : 0.933\n",
            "Train : 0.967\n"
          ]
        }
      ]
    },
    {
      "cell_type": "markdown",
      "source": [
        "## 12"
      ],
      "metadata": {
        "id": "6vVKQ9vI2vGR"
      }
    },
    {
      "cell_type": "markdown",
      "source": [
        "<font color='red'>Quel(s) modèle(s) a-t-on utilisé ?</font>\n",
        "\n",
        "<font color='lightbluereen'>On utilise les arbres de décision, avec les algorithmes de Bagging, de Random Forest et de Boosting (gradient).</font>\n",
        "\n",
        "<font color='red'>Quel modèle donne la meilleure performance ?</font>\n",
        "\n",
        "<font color='lightbluereen'>Le Bagging / RF.</font>\n",
        "\n",
        "<font color='red'>Quels sont les caractéristiques de chaque modèle ?</font>\n",
        "\n",
        "<font color='lightbluereen'>Ils utilisent tous 10 modèles / arbres (\"n_estimators\"). Le Bagging utlise le modèle d'arbre de décision comme modèle de base. Le RF utilise l'arbre de décision par défaut. Idem pour le modèle de Boosting, qui utilise un taux d'apprentissage de 0.1 et une profondeur maximale des arbres de 1.</font>"
      ],
      "metadata": {
        "id": "2b7pRNjv2xAl"
      }
    },
    {
      "cell_type": "markdown",
      "source": [
        "## 13"
      ],
      "metadata": {
        "id": "JwQ-y68M7Ist"
      }
    },
    {
      "cell_type": "markdown",
      "source": [
        "<font color='red'>Quelle est la différence entre une arbre de décision simple et la bagging ?</font>\n",
        "\n",
        "<font color='lightbluereen'>Avec un arbre simple, on utilise une seule fois les (mêmes) données dans la phase d'apprentissage. Avec le bagging (bagging = bootstrap aggregation), on utilise des données aléatoirement (avec remise) pour entraîner $n$ modèles (estimators) et faire la moyenne des résultats (avec un voting regressor / classifier).</font>\n",
        "\n",
        "<font color='red'>Vrai ou faux : le bagging n'utilise pas le bootstrap.</font>\n",
        "\n",
        "<font color='lightbluereen'>Faux, car bagging = bootstrap aggregating</font>\n",
        "\n",
        "<font color='red'>Vrai ou faux : le bagging utilise un sous-ensemble des prédicteurs séléctionnés aléatoirement.</font>\n",
        "\n",
        "<font color='lightbluereen'>Faux, car il utilise un sous-ensemble d'OBSERVATIONS séléctionnées aléatoirement.</font>\n",
        "\n",
        "<font color='red'>Vrai ou faux : le bagging fait \"pousser\" des arbres de manière séquentielle.</font>\n",
        "\n",
        "<font color='lightbluereen'>Faux, car il le fait parallèlement.</font>"
      ],
      "metadata": {
        "id": "Giwn5nku7KGC"
      }
    },
    {
      "cell_type": "markdown",
      "source": [
        "## 14"
      ],
      "metadata": {
        "id": "3WPzgBby_ClQ"
      }
    },
    {
      "cell_type": "markdown",
      "source": [
        "<font color='red'>Quelle est la différence entre le bagging et le random forest ?</font>\n",
        "\n",
        "<font color='lightbluereen'>Le RF utilise le bootstrap + aggregation, mais utilise des prédicteurs aléatoire (la racine du nombre de prédicteur de base).</font>\n",
        "\n",
        "<font color='red'>Vrai ou faux : le random forest n'utilise pas le bootstrap.</font>\n",
        "\n",
        "<font color='lightbluereen'>Faux, car il utilise le bootstrap comme dans le bagging.</font>\n",
        "\n",
        "<font color='red'>Vrai ou faux : le random forest n'est jamais  equivalent au bagging.</font>\n",
        "\n",
        "<font color='lightbluereen'>Faux, car il peut être équivalent lorsque le nombre de prédicteurs aléatoires est égale au nombre de prédicteurs de base.</font>\n",
        "\n",
        "<font color='red'>Vrai ou faux : le random forest utilise un sous-ensemble des prédicteurs séléctionnés aléatoirement.</font>\n",
        "\n",
        "<font color='lightbluereen'>Vrai, car c'est ce qui le différencie du bagging.</font>\n",
        "\n",
        "<font color='red'>Vrai ou faux : le random forest fait \"pousser\" des arbres de manière séquentielle</font>\n",
        "\n",
        "<font color='lightbluereen'>Faux, car il le fait parallèlement, comme avec le bagging.</font>"
      ],
      "metadata": {
        "id": "l2JE-ooA_DuE"
      }
    },
    {
      "cell_type": "markdown",
      "source": [
        "## 15"
      ],
      "metadata": {
        "id": "H9Al0LHlAXYA"
      }
    },
    {
      "cell_type": "markdown",
      "source": [
        "<font color='red'>Quelle est la différence entre le boosting et le random forest ?</font>\n",
        "\n",
        "<font color='lightbluereen'>Le boosting entraîne des modèles séquentiellement pour corriger les erreurs de chaque n-1 modèles, souffrant souvent d'underfitting. Le random forest utilise des observations et des prédicteurs aléatoires pour entraîner n modèles (arbres) et fait une moyenne des résultats.</font>\n",
        "\n",
        "<font color='red'>Vrai ou faux : le boosting n'utilise pas le bootstrap.</font>\n",
        "\n",
        "<font color='lightbluereen'>Vrai, il ne l'utilise pas.</font>\n",
        "\n",
        "<font color='red'>Vrai ou faux : le boosting fait \"pousser\" des arbres de manière séquentielle.</font>\n",
        "\n",
        "<font color='lightbluereen'>Vrai, car c'est son principe.</font>\n",
        "\n",
        "<font color='red'>Vrai ou faux : le boosting utilise un sous-ensemble des prédicteurs séléctionnés aléatoirement.</font>\n",
        "\n",
        "<font color='lightbluereen'>Faux, il utilise les mêmes prédicteurs.</font>\n",
        "\n",
        "<font color='red'>Vrai ou faux : la performance du boosting est proportionnelle à la profondeur des arbres utilisés.</font>\n",
        "\n",
        "<font color='lightbluereen'>Faux, car plus les arbres sont profonds, avec le boosting, plus le risque d'overfitting augmente.</font>"
      ],
      "metadata": {
        "id": "QXmNrAZsAZgT"
      }
    },
    {
      "cell_type": "markdown",
      "source": [
        "# **4.2 Hyperparameter Tuning**"
      ],
      "metadata": {
        "id": "ev_wApQ8FKcL"
      }
    },
    {
      "cell_type": "markdown",
      "source": [
        "## 16"
      ],
      "metadata": {
        "id": "N2dcfk44GCY4"
      }
    },
    {
      "cell_type": "markdown",
      "source": [
        "<font color='red'>Que désigne l'expression Hyperparameter Tuning ?</font>\n",
        "\n",
        "<font color='lightbluereen'>Elle désigne le problème du choix des hyperparamètres optimaux, c'est-à-dire les (meilleures) variables (possible) qui caractérisent les modèles dans leur apprentissage.</font>"
      ],
      "metadata": {
        "id": "jIT-Hac4GFcs"
      }
    },
    {
      "cell_type": "markdown",
      "source": [
        "# **4.2.1 Random Forest**"
      ],
      "metadata": {
        "id": "k5Qq01arGrEm"
      }
    },
    {
      "cell_type": "markdown",
      "source": [
        "## 17"
      ],
      "metadata": {
        "id": "ljDnr0hNHL10"
      }
    },
    {
      "cell_type": "code",
      "source": [
        "n_arbre = [1,2,3,4,5]\n",
        "train_results = []\n",
        "test_results = []\n",
        "for i in n_arbre:\n",
        "   rf = RandomForestClassifier(bootstrap=True,\n",
        "                               n_estimators=i, \n",
        "                               random_state=100)\n",
        "   rf.fit(X_train, y_train)\n",
        "#    train_pred = rf.predict(X_train) Cette ligne sert à quoi ?\n",
        "   test_r = rf.score(X_test,y_test)\n",
        "   test_results.append(test_r)\n",
        "   train_r = rf.score(X_train,y_train)\n",
        "   train_results.append(train_r)\n",
        "from matplotlib.legend_handler import HandlerLine2D\n",
        "line1, = plt.plot(n_arbre, train_results, label='Erreur d apprentissage')\n",
        "line2, = plt.plot(n_arbre, test_results, label='Erreur de test')\n",
        "plt.legend(handler_map={line1: HandlerLine2D(numpoints=2)})\n",
        "plt.ylabel('Taux de Classification Correct')\n",
        "plt.xlabel('Nombre d arbres')\n",
        "# fig1 = plt.gcf()\n",
        "# fig1.savefig('/Users/erreur_classification_n_arbre_rf.png')\n",
        "plt.show()"
      ],
      "metadata": {
        "colab": {
          "base_uri": "https://localhost:8080/",
          "height": 279
        },
        "id": "Y841TCcHG7bD",
        "outputId": "b081c301-75f6-4c7f-bb27-aadd741d16d4"
      },
      "execution_count": null,
      "outputs": [
        {
          "output_type": "display_data",
          "data": {
            "text/plain": [
              "<Figure size 432x288 with 1 Axes>"
            ],
            "image/png": "[encoded data removed]"
          },
          "metadata": {
            "needs_background": "light"
          }
        }
      ]
    },
    {
      "cell_type": "code",
      "source": [
        "train_results"
      ],
      "metadata": {
        "colab": {
          "base_uri": "https://localhost:8080/"
        },
        "id": "Qh2ZLEWBK6iH",
        "outputId": "c1c3a8f6-f6e4-4cae-a02f-32bfdf73306b"
      },
      "execution_count": null,
      "outputs": [
        {
          "output_type": "execute_result",
          "data": {
            "text/plain": [
              "[0.9666666666666667, 0.975, 0.9833333333333333, 0.975, 0.9833333333333333]"
            ]
          },
          "metadata": {},
          "execution_count": 29
        }
      ]
    },
    {
      "cell_type": "code",
      "source": [
        "test_results"
      ],
      "metadata": {
        "colab": {
          "base_uri": "https://localhost:8080/"
        },
        "id": "9C2p2Bo2LOZs",
        "outputId": "de1dae51-f02a-4d86-e6a5-5334d6de33fe"
      },
      "execution_count": null,
      "outputs": [
        {
          "output_type": "execute_result",
          "data": {
            "text/plain": [
              "[0.9666666666666667,\n",
              " 0.9666666666666667,\n",
              " 0.9666666666666667,\n",
              " 0.9666666666666667,\n",
              " 0.9666666666666667]"
            ]
          },
          "metadata": {},
          "execution_count": 30
        }
      ]
    },
    {
      "cell_type": "markdown",
      "source": [
        "<font color='red'>Quel hyperparamètre est etudié ici ?</font>\n",
        "\n",
        "<font color='lightbluereen'>Ici, on étudie le nombre d'arbres (n_estimators).</font>\n",
        "\n",
        "<font color='red'>Comment varie la performance du modèle en fonction de cet hyperparamètre ?</font>\n",
        "\n",
        "<font color='lightbluereen'>Les erreurs de test ne changent pas. Les erreurs d'apprentissage se réduisent avec l'augmentation du nombre d'arbres.</font>\n",
        "\n",
        "<font color='red'>Si vous deviez choisir une valeur pour cet hyperparamètre afin d'obtenir la meilleure performance, quelle valeur choisiriez-vous ?</font>\n",
        "\n",
        "<font color='lightbluereen'>3, car c'est là où les erreurs d'apprentissage sont moindres (il y a aussi 5, mais je choisis 3 par principe de parcimonie).</font>"
      ],
      "metadata": {
        "id": "WtSTCkBhHPIx"
      }
    },
    {
      "cell_type": "markdown",
      "source": [
        "## 18"
      ],
      "metadata": {
        "id": "7J4w_xCGMRAe"
      }
    },
    {
      "cell_type": "code",
      "source": [
        "max_depths = [1, 2, 3, 4,5]\n",
        "train_results = []\n",
        "test_results = []\n",
        "for i in max_depths:\n",
        "   rf =   RF_Model = RandomForestClassifier(bootstrap=True, max_depth=i, random_state=100)\n",
        "   rf.fit(X_train, y_train)\n",
        "#    train_pred = rf.predict(X_train) Cette ligne sert à quoi ?\n",
        "   test_r = rf.score(X_test,y_test)\n",
        "   test_results.append(test_r)\n",
        "   train_r = rf.score(X_train,y_train)\n",
        "   train_results.append(train_r)\n",
        "from matplotlib.legend_handler import HandlerLine2D\n",
        "line1, = plt.plot(max_depths, train_results, label='Erreur d apprentissage')\n",
        "line2, = plt.plot(max_depths, test_results, label='Erreur de test')\n",
        "plt.legend(handler_map={line1: HandlerLine2D(numpoints=2)})\n",
        "plt.ylabel('Taux de Classification Correct')\n",
        "plt.xlabel('Profondeur d un arbre')\n",
        "# fig1 = plt.gcf()\n",
        "# fig1.savefig('/Users/erreur_classification_profondeur_arbre_rf.png')\n",
        "plt.show()"
      ],
      "metadata": {
        "colab": {
          "base_uri": "https://localhost:8080/",
          "height": 279
        },
        "id": "SDDW6z4pMSOR",
        "outputId": "ffc4c348-f129-46ba-fc4f-afabb665c574"
      },
      "execution_count": null,
      "outputs": [
        {
          "output_type": "display_data",
          "data": {
            "text/plain": [
              "<Figure size 432x288 with 1 Axes>"
            ],
            "image/png": "[encoded data removed]"
          },
          "metadata": {
            "needs_background": "light"
          }
        }
      ]
    },
    {
      "cell_type": "code",
      "source": [
        "train_results"
      ],
      "metadata": {
        "colab": {
          "base_uri": "https://localhost:8080/"
        },
        "id": "eBGBTsnaMucp",
        "outputId": "942dbb4d-7872-4083-b95e-904debc1c31c"
      },
      "execution_count": null,
      "outputs": [
        {
          "output_type": "execute_result",
          "data": {
            "text/plain": [
              "[0.9833333333333333,\n",
              " 0.9666666666666667,\n",
              " 0.9833333333333333,\n",
              " 0.9833333333333333,\n",
              " 0.9916666666666667]"
            ]
          },
          "metadata": {},
          "execution_count": 32
        }
      ]
    },
    {
      "cell_type": "code",
      "source": [
        "test_results"
      ],
      "metadata": {
        "colab": {
          "base_uri": "https://localhost:8080/"
        },
        "id": "2A4Yd3bsMwQM",
        "outputId": "185ca8af-ce79-4807-d6b3-da52d815a48d"
      },
      "execution_count": null,
      "outputs": [
        {
          "output_type": "execute_result",
          "data": {
            "text/plain": [
              "[0.9666666666666667,\n",
              " 0.9333333333333333,\n",
              " 0.9666666666666667,\n",
              " 0.9666666666666667,\n",
              " 0.9666666666666667]"
            ]
          },
          "metadata": {},
          "execution_count": 33
        }
      ]
    },
    {
      "cell_type": "markdown",
      "source": [
        "<font color='red'>Quel hyperparamètre est etudié ici ?</font>\n",
        "\n",
        "<font color='lightbluereen'>Ici, on étudie la profondeur des arbres (max_depth).</font>\n",
        "\n",
        "<font color='red'>Comment varie la performance du modèle en fonction de cet hyperparamètre ?</font>\n",
        "\n",
        "<font color='lightbluereen'>Avec l'augmentation de la profondeur : le taux de classification correct diminue puis augmente.</font>\n",
        "\n",
        "<font color='red'>Si vous deviez choisir une valeur pour cet hyperparamètre afin d'obtenir la meilleure performance, quelle valeur choisiriez-vous ?</font>\n",
        "\n",
        "<font color='lightbluereen'>5, car il correspond au meilleur taux de classification correct pour l'apprentissage comme pour le test.</font>"
      ],
      "metadata": {
        "id": "U7rbJP_fM3E7"
      }
    },
    {
      "cell_type": "markdown",
      "source": [
        "# **4.2.2 Boosting**"
      ],
      "metadata": {
        "id": "atj-zCoaNrTR"
      }
    },
    {
      "cell_type": "markdown",
      "source": [
        "## 19"
      ],
      "metadata": {
        "id": "jmNgF9c_Nvf5"
      }
    },
    {
      "cell_type": "code",
      "source": [
        "from sklearn.ensemble import GradientBoostingClassifier\n",
        "\n",
        "n_estimators_n = [1, 2, 5, 10, 20 ]\n",
        "train_results = []\n",
        "test_results = []\n",
        "for i in n_estimators_n:\n",
        "   rf =  GradientBoostingClassifier(n_estimators=i, learning_rate=0.1,\n",
        "     max_depth=1, random_state=0).fit(X_train, y_train)\n",
        "   rf.fit(X_train, y_train)\n",
        "#    train_pred = rf.predict(X_train) Cette ligne sert à quoi ?\n",
        "   test_r = rf.score(X_test,y_test)\n",
        "   test_results.append(test_r)\n",
        "   train_r = rf.score(X_train,y_train)\n",
        "   train_results.append(train_r)\n",
        "from matplotlib.legend_handler import HandlerLine2D\n",
        "line1, = plt.plot(max_depths, train_results, label='Erreur d apprentissage')\n",
        "line2, = plt.plot(max_depths, test_results, label='Erreur de test')\n",
        "plt.legend(handler_map={line1: HandlerLine2D(numpoints=2)})\n",
        "plt.ylabel('Taux de Classification Correct')\n",
        "plt.xlabel('Nombre d arbres')\n",
        "# fig1 = plt.gcf()\n",
        "# fig1.savefig('/Users/erreur_classification_n_arbre_boosting.png')\n",
        "plt.show()"
      ],
      "metadata": {
        "colab": {
          "base_uri": "https://localhost:8080/",
          "height": 279
        },
        "id": "h55HaWg4NxhJ",
        "outputId": "2c191e88-bd66-4c44-88ee-75dc8e559c1b"
      },
      "execution_count": null,
      "outputs": [
        {
          "output_type": "display_data",
          "data": {
            "text/plain": [
              "<Figure size 432x288 with 1 Axes>"
            ],
            "image/png": "[encoded data removed]"
          },
          "metadata": {
            "needs_background": "light"
          }
        }
      ]
    },
    {
      "cell_type": "code",
      "source": [
        "train_results"
      ],
      "metadata": {
        "colab": {
          "base_uri": "https://localhost:8080/"
        },
        "id": "oyAgt8YeOH8Z",
        "outputId": "b18318c3-a529-4d55-d3d2-e6c8c54277e0"
      },
      "execution_count": null,
      "outputs": [
        {
          "output_type": "execute_result",
          "data": {
            "text/plain": [
              "[0.9666666666666667,\n",
              " 0.9666666666666667,\n",
              " 0.9666666666666667,\n",
              " 0.9666666666666667,\n",
              " 0.9833333333333333]"
            ]
          },
          "metadata": {},
          "execution_count": 35
        }
      ]
    },
    {
      "cell_type": "code",
      "source": [
        "test_results"
      ],
      "metadata": {
        "colab": {
          "base_uri": "https://localhost:8080/"
        },
        "id": "JMBrskNkOLcl",
        "outputId": "5b00326c-d1d1-43e3-e326-fea83610495a"
      },
      "execution_count": null,
      "outputs": [
        {
          "output_type": "execute_result",
          "data": {
            "text/plain": [
              "[0.9333333333333333,\n",
              " 0.9333333333333333,\n",
              " 0.9333333333333333,\n",
              " 0.9333333333333333,\n",
              " 0.9666666666666667]"
            ]
          },
          "metadata": {},
          "execution_count": 36
        }
      ]
    },
    {
      "cell_type": "markdown",
      "source": [
        "<font color='red'>Quel hyperparamètre est etudié ici ?</font>\n",
        "\n",
        "<font color='lightbluereen'>Ici, on étudie le nombre d'arbres (n_estimators).</font>\n",
        "\n",
        "<font color='red'>Comment varie la performance du modèle en fonction de cet hyperparamètre ?</font>\n",
        "\n",
        "<font color='lightbluereen'>Avec l'augmentation de $n\\_estimators$ : le taux de classification correct augmente.</font>\n",
        "\n",
        "<font color='red'>Si vous deviez choisir une valeur pour cet hyperparamètre afin d'obtenir la meilleure performance, quelle valeur choisiriez-vous ?</font>\n",
        "\n",
        "<font color='lightbluereen'>20 arbres, car il correspond au meilleur taux de classification correct pour l'apprentissage comme pour le test.</font>"
      ],
      "metadata": {
        "id": "bsQ2k1mGOlvH"
      }
    },
    {
      "cell_type": "markdown",
      "source": [
        "## 20"
      ],
      "metadata": {
        "id": "yGVKI-lqPTXO"
      }
    },
    {
      "cell_type": "code",
      "source": [
        "max_depths = [1, 2,3,4]\n",
        "train_results = []\n",
        "test_results = []\n",
        "for i in max_depths:\n",
        "   rf =  GradientBoostingClassifier(n_estimators=20, learning_rate=0.1,\n",
        "     max_depth=i, random_state=0).fit(X_train, y_train)\n",
        "   rf.fit(X_train, y_train)\n",
        "#    train_pred = rf.predict(X_train) Cette ligne sert à quoi ?\n",
        "   test_r = rf.score(X_test,y_test)\n",
        "   test_results.append(test_r)\n",
        "   train_r = rf.score(X_train,y_train)\n",
        "   train_results.append(train_r)\n",
        "from matplotlib.legend_handler import HandlerLine2D\n",
        "line1, = plt.plot(max_depths, train_results, label='Erreur d apprentissage')\n",
        "line2, = plt.plot(max_depths, test_results, label='Erreur de test')\n",
        "plt.legend(handler_map={line1: HandlerLine2D(numpoints=2)})\n",
        "plt.ylabel('Taux de Classification Correct')\n",
        "plt.xlabel('Profondeur d un arbre')\n",
        "# fig1 = plt.gcf()\n",
        "# fig1.savefig('/Users/erreur_classification_profondeur_arbre_boosting.png')\n",
        "plt.show()"
      ],
      "metadata": {
        "colab": {
          "base_uri": "https://localhost:8080/",
          "height": 279
        },
        "id": "UWx3AdgcPU7F",
        "outputId": "f4aa32b9-64e3-40c5-e595-9b8381ec821d"
      },
      "execution_count": null,
      "outputs": [
        {
          "output_type": "display_data",
          "data": {
            "text/plain": [
              "<Figure size 432x288 with 1 Axes>"
            ],
            "image/png": "[encoded data removed]"
          },
          "metadata": {
            "needs_background": "light"
          }
        }
      ]
    },
    {
      "cell_type": "code",
      "source": [
        "train_results"
      ],
      "metadata": {
        "colab": {
          "base_uri": "https://localhost:8080/"
        },
        "id": "f8qsY02RQRTn",
        "outputId": "ed83a7c3-695f-443c-a8f0-358d472a3d26"
      },
      "execution_count": null,
      "outputs": [
        {
          "output_type": "execute_result",
          "data": {
            "text/plain": [
              "[0.9833333333333333,\n",
              " 0.9833333333333333,\n",
              " 0.9916666666666667,\n",
              " 0.9916666666666667]"
            ]
          },
          "metadata": {},
          "execution_count": 38
        }
      ]
    },
    {
      "cell_type": "code",
      "source": [
        "test_results"
      ],
      "metadata": {
        "colab": {
          "base_uri": "https://localhost:8080/"
        },
        "id": "93DEhx13QUbm",
        "outputId": "5914ad11-19d9-4a69-d7e9-d2bf51a067d4"
      },
      "execution_count": null,
      "outputs": [
        {
          "output_type": "execute_result",
          "data": {
            "text/plain": [
              "[0.9666666666666667,\n",
              " 0.9666666666666667,\n",
              " 0.9333333333333333,\n",
              " 0.9333333333333333]"
            ]
          },
          "metadata": {},
          "execution_count": 39
        }
      ]
    },
    {
      "cell_type": "markdown",
      "source": [
        "<font color='red'>Quel hyperparamètre est etudié ici ?</font>\n",
        "\n",
        "<font color='lightbluereen'>Ici, on étudie la profondeur des arbres (max_depth).</font>\n",
        "\n",
        "<font color='red'>Comment varie la performance du modèle en fonction de cet hyperparamètre ?</font>\n",
        "\n",
        "<font color='lightbluereen'>Avec l'augmentation de $max\\_depth$ : le taux de classification correct augmente pour l'apprentissage, mais diminue pour le test.</font>\n",
        "\n",
        "<font color='red'>Si vous deviez choisir une valeur pour cet hyperparamètre afin d'obtenir la meilleure performance, quelle valeur choisiriez-vous ?</font>\n",
        "\n",
        "<font color='lightbluereen'>Une profondeur de 1, car il correspond au meilleur taux de classification correct pour le test (bien qu'inférieur pour l'apprentissage, mais les résultats du test sont plus importants).</font>"
      ],
      "metadata": {
        "id": "Po2erjJNPfjr"
      }
    }
  ]
}